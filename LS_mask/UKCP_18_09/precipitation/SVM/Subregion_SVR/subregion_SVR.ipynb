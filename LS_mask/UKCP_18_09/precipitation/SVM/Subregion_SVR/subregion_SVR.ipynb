{
 "cells": [
  {
   "cell_type": "markdown",
   "metadata": {},
   "source": [
    "## Filtering out subregion based on number of points and number of coastal points "
   ]
  },
  {
   "cell_type": "code",
   "execution_count": 25,
   "metadata": {},
   "outputs": [
    {
     "name": "stdout",
     "output_type": "stream",
     "text": [
      "Shapefile with subregions saved successfully.\n"
     ]
    },
    {
     "name": "stderr",
     "output_type": "stream",
     "text": [
      "C:\\Users\\vibhu\\AppData\\Local\\Temp\\ipykernel_16484\\675370958.py:50: UserWarning: Column names longer than 10 characters will be truncated when saved to ESRI Shapefile.\n",
      "  gdf_with_subregions.to_file('subregions_base.shp')\n",
      "c:\\Users\\vibhu\\AppData\\Local\\Programs\\Python\\Python312\\Lib\\site-packages\\pyogrio\\raw.py:709: RuntimeWarning: Normalized/laundered field name: 'subregion_id' to 'subregion_'\n",
      "  ogr_write(\n"
     ]
    }
   ],
   "source": [
    "import geopandas as gpd\n",
    "import numpy as np\n",
    "from shapely.geometry import box\n",
    "\n",
    "# Load the shapefile\n",
    "gdf = gpd.read_file('UK_PPT_DEM_12km.shp')\n",
    "\n",
    "# Define grid size in meters (adjust as needed)\n",
    "x_interval = 80000  # e.g., 80 km\n",
    "y_interval = 80000  # e.g., 80 km\n",
    "\n",
    "# Get the bounds of the entire dataset\n",
    "x_min_global, y_min_global, x_max_global, y_max_global = gdf.total_bounds\n",
    "\n",
    "# Create subregions as bounding boxes\n",
    "def create_subregions(x_min, x_max, y_min, y_max, x_interval, y_interval):\n",
    "    subregions = []\n",
    "    x_bins = np.arange(x_min, x_max + x_interval, x_interval)\n",
    "    y_bins = np.arange(y_min, y_max + y_interval, y_interval)\n",
    "    \n",
    "    for i in range(len(x_bins) - 1):\n",
    "        for j in range(len(y_bins) - 1):\n",
    "            min_x_bin = x_bins[i]\n",
    "            max_x_bin = x_bins[i + 1]\n",
    "            min_y_bin = y_bins[j]\n",
    "            max_y_bin = y_bins[j + 1]\n",
    "            subregions.append(box(min_x_bin, min_y_bin, max_x_bin, max_y_bin))\n",
    "    \n",
    "    return subregions\n",
    "\n",
    "# Generate subregions\n",
    "subregions = create_subregions(x_min_global, x_max_global, y_min_global, y_max_global, x_interval, y_interval)\n",
    "\n",
    "# Create a GeoDataFrame for subregions\n",
    "subregions_gdf = gpd.GeoDataFrame({'geometry': subregions}, crs=gdf.crs)\n",
    "\n",
    "# Add a unique sequential ID for each subregion, starting from 1\n",
    "subregions_gdf['subregion_id'] = range(1, len(subregions_gdf) + 1)\n",
    "\n",
    "# Spatial join to assign subregions to the original GeoDataFrame\n",
    "gdf_with_subregions = gdf.copy()\n",
    "gdf_with_subregions['subregion_id'] = None\n",
    "\n",
    "for index, row in subregions_gdf.iterrows():\n",
    "    subregion_polygon = row['geometry']\n",
    "    mask = gdf.intersects(subregion_polygon)\n",
    "    gdf_with_subregions.loc[mask, 'subregion_id'] = row['subregion_id']\n",
    "\n",
    "# Save the updated GeoDataFrame with subregion information\n",
    "gdf_with_subregions.to_file('subregions_base.shp')\n",
    "\n",
    "print(\"Shapefile with subregions saved successfully.\")\n",
    "\n"
   ]
  },
  {
   "cell_type": "code",
   "execution_count": null,
   "metadata": {},
   "outputs": [],
   "source": [
    "import geopandas as gpd\n",
    "\n",
    "# Load the shapefile with points and subregions\n",
    "gdf_with_subregions = gpd.read_file('subregions_imputed.shp')\n",
    "\n",
    "# Group points by subregion_id and count the number of points in each subregion\n",
    "subregion_counts = gdf_with_subregions.groupby('subregion_').size()\n",
    "\n",
    "# Print the number of points for each subregion\n",
    "print(\"Number of points per subregion:\")\n",
    "for subregion_id, count in subregion_counts.items():\n",
    "    print(f\"Subregion ID {subregion_id}: {count} points\")\n"
   ]
  },
  {
   "cell_type": "code",
   "execution_count": 26,
   "metadata": {},
   "outputs": [
    {
     "name": "stdout",
     "output_type": "stream",
     "text": [
      "Shapefile with subregions saved successfully.\n"
     ]
    },
    {
     "name": "stderr",
     "output_type": "stream",
     "text": [
      "C:\\Users\\vibhu\\AppData\\Local\\Temp\\ipykernel_16484\\2034460480.py:51: FutureWarning: Downcasting object dtype arrays on .fillna, .ffill, .bfill is deprecated and will change in a future version. Call result.infer_objects(copy=False) instead. To opt-in to the future behavior, set `pd.set_option('future.no_silent_downcasting', True)`\n",
      "  gdf_with_subregions['subregion_id'] = gdf_with_subregions['subregion_id'].fillna(-1).astype(int)\n",
      "C:\\Users\\vibhu\\AppData\\Local\\Temp\\ipykernel_16484\\2034460480.py:54: UserWarning: Column names longer than 10 characters will be truncated when saved to ESRI Shapefile.\n",
      "  gdf_with_subregions.to_file('subregions_base.shp')\n",
      "c:\\Users\\vibhu\\AppData\\Local\\Programs\\Python\\Python312\\Lib\\site-packages\\pyogrio\\raw.py:709: RuntimeWarning: Normalized/laundered field name: 'subregion_id' to 'subregion_'\n",
      "  ogr_write(\n"
     ]
    }
   ],
   "source": [
    "import geopandas as gpd\n",
    "import numpy as np\n",
    "from shapely.geometry import box\n",
    "\n",
    "# Load the shapefile\n",
    "gdf = gpd.read_file('UK_PPT_DEM_12km.shp')\n",
    "\n",
    "# Define grid size in meters (adjust as needed)\n",
    "x_interval = 80000  # e.g., 80 km\n",
    "y_interval = 80000  # e.g., 80 km\n",
    "\n",
    "# Get the bounds of the entire dataset\n",
    "x_min_global, y_min_global, x_max_global, y_max_global = gdf.total_bounds\n",
    "\n",
    "# Create subregions as bounding boxes\n",
    "def create_subregions(x_min, x_max, y_min, y_max, x_interval, y_interval):\n",
    "    subregions = []\n",
    "    x_bins = np.arange(x_min, x_max + x_interval, x_interval)\n",
    "    y_bins = np.arange(y_min, y_max + y_interval, y_interval)\n",
    "    \n",
    "    for i in range(len(x_bins) - 1):\n",
    "        for j in range(len(y_bins) - 1):\n",
    "            min_x_bin = x_bins[i]\n",
    "            max_x_bin = x_bins[i + 1]\n",
    "            min_y_bin = y_bins[j]\n",
    "            max_y_bin = y_bins[j + 1]\n",
    "            subregions.append(box(min_x_bin, min_y_bin, max_x_bin, max_y_bin))\n",
    "    \n",
    "    return subregions\n",
    "\n",
    "# Generate subregions\n",
    "subregions = create_subregions(x_min_global, x_max_global, y_min_global, y_max_global, x_interval, y_interval)\n",
    "\n",
    "# Create a GeoDataFrame for subregions\n",
    "subregions_gdf = gpd.GeoDataFrame({'geometry': subregions}, crs=gdf.crs)\n",
    "\n",
    "# Add a unique sequential ID for each subregion, starting from 1\n",
    "subregions_gdf['subregion_id'] = range(1, len(subregions_gdf) + 1)\n",
    "\n",
    "# Spatial join to assign subregions to the original GeoDataFrame\n",
    "gdf_with_subregions = gdf.copy()\n",
    "gdf_with_subregions['subregion_id'] = None\n",
    "\n",
    "# Spatial join: assign subregion_id to each feature in the original GeoDataFrame\n",
    "for idx, subregion in subregions_gdf.iterrows():\n",
    "    subregion_polygon = subregion['geometry']\n",
    "    mask = gdf_with_subregions.intersects(subregion_polygon)\n",
    "    gdf_with_subregions.loc[mask, 'subregion_id'] = subregion['subregion_id']\n",
    "\n",
    "# Ensure no missing subregion_id values\n",
    "gdf_with_subregions['subregion_id'] = gdf_with_subregions['subregion_id'].fillna(-1).astype(int)\n",
    "\n",
    "# Save the updated GeoDataFrame with subregion information\n",
    "gdf_with_subregions.to_file('subregions_base.shp')\n",
    "\n",
    "print(\"Shapefile with subregions saved successfully.\")\n"
   ]
  },
  {
   "cell_type": "code",
   "execution_count": 27,
   "metadata": {},
   "outputs": [
    {
     "name": "stdout",
     "output_type": "stream",
     "text": [
      "Filtered shapefile with valid subregions saved successfully.\n"
     ]
    },
    {
     "name": "stderr",
     "output_type": "stream",
     "text": [
      "C:\\Users\\vibhu\\AppData\\Local\\Temp\\ipykernel_16484\\2212638063.py:7: DeprecationWarning: DataFrameGroupBy.apply operated on the grouping columns. This behavior is deprecated, and in a future version of pandas the grouping columns will be excluded from the operation. Either pass `include_groups=False` to exclude the groupings or explicitly select the grouping columns after groupby to silence this warning.\n",
      "  coastal_subregions = gdf_with_subregions.groupby('subregion_').apply(\n"
     ]
    }
   ],
   "source": [
    "import geopandas as gpd\n",
    "\n",
    "# Load the shapefile with subregions\n",
    "gdf_with_subregions = gpd.read_file('subregions_base.shp')\n",
    "\n",
    "# Group by 'subregion_id' and find subregions with at least one coastal point\n",
    "coastal_subregions = gdf_with_subregions.groupby('subregion_').apply(\n",
    "    lambda x: 'coastal' in x['classifica'].values\n",
    ")\n",
    "\n",
    "# Filter to keep only subregions that contain at least one coastal point\n",
    "valid_subregions = coastal_subregions[coastal_subregions].index\n",
    "\n",
    "# Filter the GeoDataFrame to include only points from valid subregions\n",
    "gdf_filtered = gdf_with_subregions[gdf_with_subregions['subregion_'].isin(valid_subregions)]\n",
    "\n",
    "\n",
    "gdf_with_subregions = gdf_filtered\n",
    "\n",
    "# Group by 'subregion_id'\n",
    "grouped = gdf_with_subregions.groupby('subregion_')\n",
    "\n",
    "# Initialize lists to keep valid subregions and their IDs\n",
    "valid_subregion_ids = []\n",
    "\n",
    "# Iterate over each subregion\n",
    "for subregion_id, group in grouped:\n",
    "    if len(group) >= 5:\n",
    "        valid_subregion_ids.append(subregion_id)\n",
    "\n",
    "# Filter the GeoDataFrame to include only valid subregions\n",
    "gdf_filtered = gdf_with_subregions[gdf_with_subregions['subregion_'].isin(valid_subregion_ids)]\n",
    "\n",
    "# Save the filtered GeoDataFrame to a new shapefile\n",
    "gdf_filtered.to_file('subregions.shp')\n",
    "\n",
    "print(f'Filtered shapefile with valid subregions saved successfully.')\n"
   ]
  },
  {
   "cell_type": "code",
   "execution_count": 28,
   "metadata": {},
   "outputs": [
    {
     "name": "stderr",
     "output_type": "stream",
     "text": [
      "Processing Subregions: 100%|██████████| 65/65 [00:01<00:00, 39.24it/s]\n",
      "C:\\Users\\vibhu\\AppData\\Local\\Temp\\ipykernel_16484\\2669564639.py:75: UserWarning: Column names longer than 10 characters will be truncated when saved to ESRI Shapefile.\n",
      "  results_gdf.to_file('imputation_results.shp')\n",
      "c:\\Users\\vibhu\\AppData\\Local\\Programs\\Python\\Python312\\Lib\\site-packages\\pyogrio\\raw.py:709: RuntimeWarning: Normalized/laundered field name: 'subregion_id' to 'subregion_'\n",
      "  ogr_write(\n",
      "c:\\Users\\vibhu\\AppData\\Local\\Programs\\Python\\Python312\\Lib\\site-packages\\pyogrio\\raw.py:709: RuntimeWarning: Normalized/laundered field name: 'coastal_point_id' to 'coastal_po'\n",
      "  ogr_write(\n",
      "c:\\Users\\vibhu\\AppData\\Local\\Programs\\Python\\Python312\\Lib\\site-packages\\pyogrio\\raw.py:709: RuntimeWarning: Normalized/laundered field name: 'imputed_value' to 'imputed_va'\n",
      "  ogr_write(\n"
     ]
    },
    {
     "name": "stdout",
     "output_type": "stream",
     "text": [
      "Imputation results saved successfully to \"imputation_results.shp\".\n"
     ]
    }
   ],
   "source": [
    "import geopandas as gpd\n",
    "import numpy as np\n",
    "from shapely.geometry import Point\n",
    "from sklearn.svm import SVR\n",
    "from sklearn.metrics import mean_squared_error\n",
    "import pandas as pd\n",
    "from tqdm import tqdm\n",
    "\n",
    "# Load the shapefile with subregions\n",
    "gdf_with_subregions = gpd.read_file('subregions.shp')\n",
    "crs = gdf_with_subregions.crs\n",
    "\n",
    "# Prepare a list to store imputation results\n",
    "results = []\n",
    "\n",
    "# Iterate over each subregion with tqdm progress bar\n",
    "for subregion_id, group in tqdm(gdf_with_subregions.groupby('subregion_'), desc='Processing Subregions'):\n",
    "    if len(group) < 5:\n",
    "        continue\n",
    "    \n",
    "    # Extract features and target variable\n",
    "    features = group[['latitude', 'longitude', 'average_de']]\n",
    "    target = group['value']\n",
    "    \n",
    "    # Separate coastal and non-coastal points\n",
    "    coastal_points = group[group['classifica'] == 'coastal']\n",
    "    non_coastal_points = group[group['classifica'] != 'coastal']\n",
    "    \n",
    "    if len(coastal_points) == 0:\n",
    "        continue\n",
    "    \n",
    "    # Train SVR model for each coastal point\n",
    "    for idx, coastal_point in tqdm(coastal_points.iterrows(), total=len(coastal_points), desc='Processing Coastal Points', leave=False):\n",
    "        # Extract the test point\n",
    "        test_point_features = np.array([[coastal_point['latitude'], coastal_point['longitude'], coastal_point['average_de']]])\n",
    "        \n",
    "        # Prepare training data\n",
    "        coastal_points_excluding_current = coastal_points.drop(idx)\n",
    "        training_data = pd.concat([non_coastal_points, coastal_points_excluding_current])\n",
    "        X_train = training_data[['latitude', 'longitude', 'average_de']].values\n",
    "        y_train = training_data['value'].values\n",
    "        \n",
    "        # Initialize SVR with RBF kernel\n",
    "        svr = SVR(kernel='rbf')\n",
    "        \n",
    "        # Fit the model\n",
    "        svr.fit(X_train, y_train)\n",
    "        \n",
    "        # Predict the value for the test point\n",
    "        y_pred = svr.predict(test_point_features)\n",
    "        \n",
    "        # Append result\n",
    "        results.append({\n",
    "            'subregion_id': subregion_id,\n",
    "            'coastal_point_id': coastal_point.name,  # Using index as unique identifier\n",
    "            'latitude': coastal_point['latitude'],\n",
    "            'longitude': coastal_point['longitude'],\n",
    "            'average_de': coastal_point['average_de'],\n",
    "            'imputed_value': y_pred[0],\n",
    "            'true_value': coastal_point['value'],\n",
    "            'mse': mean_squared_error([coastal_point['value']], [y_pred[0]])\n",
    "        })\n",
    "\n",
    "# Convert results to a DataFrame\n",
    "results_df = pd.DataFrame(results)\n",
    "\n",
    "# Convert the results DataFrame to a GeoDataFrame\n",
    "results_gdf = gpd.GeoDataFrame(\n",
    "    results_df,\n",
    "    geometry=gpd.points_from_xy(results_df['longitude'], results_df['latitude']),\n",
    "    crs=crs\n",
    ")\n",
    "\n",
    "# Save the imputation results to a shapefile\n",
    "results_gdf.to_file('imputation_results.shp')\n",
    "print('Imputation results saved successfully to \"imputation_results.shp\".')\n"
   ]
  },
  {
   "cell_type": "code",
   "execution_count": 29,
   "metadata": {},
   "outputs": [
    {
     "name": "stdout",
     "output_type": "stream",
     "text": [
      "Subregions with imputed values saved successfully to \"subregions_with_imputation.shp\".\n"
     ]
    },
    {
     "name": "stderr",
     "output_type": "stream",
     "text": [
      "C:\\Users\\vibhu\\AppData\\Local\\Temp\\ipykernel_16484\\3649931399.py:33: UserWarning: Column names longer than 10 characters will be truncated when saved to ESRI Shapefile.\n",
      "  merged_gdf.to_file('subregions_imputed.shp')\n",
      "c:\\Users\\vibhu\\AppData\\Local\\Programs\\Python\\Python312\\Lib\\site-packages\\pyogrio\\raw.py:709: RuntimeWarning: Normalized/laundered field name: 'subregion__x' to 'subregion_'\n",
      "  ogr_write(\n",
      "c:\\Users\\vibhu\\AppData\\Local\\Programs\\Python\\Python312\\Lib\\site-packages\\pyogrio\\raw.py:709: RuntimeWarning: Normalized/laundered field name: 'subregion__y' to 'subregio_1'\n",
      "  ogr_write(\n"
     ]
    }
   ],
   "source": [
    "import geopandas as gpd\n",
    "import pandas as pd\n",
    "\n",
    "# Load the imputation results shapefile\n",
    "results_gdf = gpd.read_file('imputation_results.shp')\n",
    "\n",
    "# Group by subregion_id and calculate the average MSE\n",
    "subregion_mse = results_gdf.groupby('subregion_')['mse'].mean().reset_index()\n",
    "subregion_mse.columns = ['subregion_', 'avg_mse']\n",
    "\n",
    "# Merge the average MSE with the subregions shapefile\n",
    "subregions_gdf = gpd.read_file('subregions.shp')\n",
    "subregions_with_mse = subregions_gdf.merge(subregion_mse, on='subregion_')\n",
    "\n",
    "\n",
    "# Load the shapefile with subregions\n",
    "subregions_gdf = subregions_with_mse\n",
    "\n",
    "# Load the imputation results shapefile\n",
    "imputation_results_gdf = gpd.read_file('imputation_results.shp')\n",
    "\n",
    "# Rename columns for consistency\n",
    "imputation_results_gdf.rename(columns={'lat': 'latitude', 'long': 'longitude'}, inplace=True)\n",
    "\n",
    "# Merge the imputation results with the subregions on latitude and longitude\n",
    "# We use 'inner' to ensure only matching rows are included\n",
    "merged_gdf = subregions_gdf.merge(\n",
    "    imputation_results_gdf[['subregion_', 'latitude', 'longitude', 'imputed_va', 'mse']],\n",
    "    on=['latitude', 'longitude'], how='left'\n",
    ")\n",
    "#merged_gdf.drop('subregio_1')\n",
    "# Save the updated subregions GeoDataFrame to a new shapefile\n",
    "merged_gdf.to_file('subregions_imputed.shp')\n",
    "\n",
    "print('Subregions with imputed values saved successfully to \"subregions_with_imputation.shp\".')\n"
   ]
  },
  {
   "cell_type": "code",
   "execution_count": 30,
   "metadata": {},
   "outputs": [
    {
     "name": "stdout",
     "output_type": "stream",
     "text": [
      "    subregion_   avg_mse\n",
      "29          91  4.244387\n",
      "23          80  3.022159\n",
      "34          98  2.744526\n",
      "0            4  2.598543\n",
      "1            5  2.586708\n",
      "5           24  2.181695\n",
      "22          79  2.122518\n",
      "39         110  2.044309\n",
      "33          97  1.801222\n",
      "24          81  1.124872\n",
      "7           39  1.049525\n",
      "28          90  1.013435\n",
      "21          78  0.907584\n",
      "41         113  0.894253\n",
      "9           43  0.819456\n",
      "8           42  0.758057\n",
      "31          94  0.753206\n",
      "16          64  0.698303\n",
      "2            7  0.644942\n",
      "25          87  0.519729\n",
      "30          93  0.502445\n",
      "Filtered and sorted average MSE for each subregion saved to \"filtered_subregion_avg_mse_sorted_desc.csv\".\n"
     ]
    }
   ],
   "source": [
    "import geopandas as gpd\n",
    "import pandas as pd\n",
    "\n",
    "# Load the imputation results shapefile\n",
    "imputation_results_gdf = gpd.read_file('imputation_results.shp')\n",
    "\n",
    "# Calculate the average MSE for each subregion\n",
    "subregion_mse = imputation_results_gdf.groupby('subregion_')['mse'].mean().reset_index()\n",
    "subregion_mse.columns = ['subregion_', 'avg_mse']\n",
    "\n",
    "# Define the MSE threshold (lifit)\n",
    "limit = 0.5  # Example threshold value, replace with your specific threshold\n",
    "\n",
    "# Filter subregions where average MSE is greater than the threshold\n",
    "filtered_subregion_mse = subregion_mse[subregion_mse['avg_mse'] > limit]\n",
    "\n",
    "# Sort the filtered results by average MSE in descending order\n",
    "filtered_subregion_mse_sorted = filtered_subregion_mse.sort_values(by='avg_mse', ascending=False)\n",
    "\n",
    "# Print the sorted filtered table\n",
    "print(filtered_subregion_mse_sorted)\n",
    "\n",
    "# Optional: Save the filtered and sorted results to a CSV file\n",
    "filtered_subregion_mse_sorted.to_csv('filtered_subregion_avg_mse_sorted_desc.csv', index=False)\n",
    "print('Filtered and sorted average MSE for each subregion saved to \"filtered_subregion_avg_mse_sorted_desc.csv\".')\n"
   ]
  },
  {
   "cell_type": "code",
   "execution_count": 39,
   "metadata": {},
   "outputs": [
    {
     "name": "stdout",
     "output_type": "stream",
     "text": [
      "Number of points with MSE more then threhold 235\n"
     ]
    }
   ],
   "source": [
    "import geopandas as gpd\n",
    "\n",
    "# Load the shapefile with imputation results\n",
    "imputation_gdf = gpd.read_file('subregions_imputed.shp')\n",
    "\n",
    "# Define the MSE threshold\n",
    "mse_threshold = 0.1  # Adjust this value to your desired threshold\n",
    "\n",
    "# Filter points where MSE is less than or equal to the threshold\n",
    "filtered_gdf = imputation_gdf[imputation_gdf['mse'] >= mse_threshold]\n",
    "\n",
    "\n",
    "print(\"Number of points with MSE more then threhold\",len(filtered_gdf))\n",
    "\n",
    "# Save the filtered points to a new shapefile\n",
    "filtered_gdf.to_file('High_MSE_points.shp')\n",
    "\n",
    "\n"
   ]
  },
  {
   "cell_type": "code",
   "execution_count": 37,
   "metadata": {},
   "outputs": [
    {
     "name": "stdout",
     "output_type": "stream",
     "text": [
      "Number of points with classification \"coastal\": 538\n"
     ]
    }
   ],
   "source": [
    "import geopandas as gpd\n",
    "\n",
    "# Load the shapefile with imputation results\n",
    "gdf = gpd.read_file('UK_PPT_DEM_12km.shp')\n",
    "\n",
    "# Filter points where classification is 'coastal'\n",
    "coastal_points = gdf[gdf['classifica'] == 'coastal']\n",
    "\n",
    "# Count the number of coastal points\n",
    "num_coastal_points = len(coastal_points)\n",
    "\n",
    "print(f'Number of points with classification \"coastal\": {num_coastal_points}')\n"
   ]
  },
  {
   "cell_type": "code",
   "execution_count": 55,
   "metadata": {},
   "outputs": [
    {
     "name": "stdout",
     "output_type": "stream",
     "text": [
      "Number of points with MSE less than or equal to 0: 0\n",
      "Number of points with MSE less than or equal to 0.001: 43\n",
      "Number of points with MSE less than or equal to 0.01: 129\n",
      "Number of points with MSE less than or equal to 0.05: 228\n",
      "Number of points with MSE less than or equal to 0.1: 266\n",
      "Number of points with MSE less than or equal to 0.15: 293\n",
      "Number of points with MSE less than or equal to 0.2: 312\n",
      "Number of points with MSE less than or equal to 0.25: 335\n",
      "Number of points with MSE less than or equal to 0.3: 349\n",
      "Number of points with MSE less than or equal to 0.4: 363\n",
      "Number of points with MSE less than or equal to 0.5: 376\n",
      "Number of points with MSE less than or equal to 0.8: 398\n",
      "Number of points with MSE less than or equal to 1.0: 412\n",
      "Number of points with MSE less than or equal to 1.5: 433\n",
      "Number of points with MSE less than or equal to 2.0: 449\n",
      "Number of points with MSE less than or equal to 2.5: 459\n"
     ]
    },
    {
     "data": {
      "image/png": "[encoded data removed]",
      "text/plain": [
       "<Figure size 1000x600 with 1 Axes>"
      ]
     },
     "metadata": {},
     "output_type": "display_data"
    }
   ],
   "source": [
    "import geopandas as gpd\n",
    "import matplotlib.pyplot as plt\n",
    "\n",
    "# Load the shapefile with imputation results\n",
    "imputation_gdf = gpd.read_file('subregions_imputed.shp')\n",
    "\n",
    "# Define multiple MSE thresholds\n",
    "thresholds = [0,0.001,0.01,0.05,0.1,0.15, 0.2,0.25,0.3,0.4, 0.5, 0.8, 1.0,1.5,2.0,2.5]\n",
    "\n",
    "# Initialize a list to store counts for each threshold\n",
    "threshold_counts = []\n",
    "\n",
    "# Filter points based on each threshold and count them\n",
    "for threshold in thresholds:\n",
    "    filtered_gdf = imputation_gdf[imputation_gdf['mse'] <= threshold]\n",
    "    threshold_counts.append(len(filtered_gdf))\n",
    "    print(f'Number of points with MSE less than or equal to {threshold}: {len(filtered_gdf)}')\n",
    "\n",
    "# Plotting the results\n",
    "plt.figure(figsize=(10, 6))\n",
    "plt.plot(thresholds, threshold_counts, marker='o', linestyle='-', color='b')\n",
    "plt.xlabel('MSE Threshold')\n",
    "plt.ylabel('Number of Points')\n",
    "plt.title('Distribution of Points by MSE Threshold')\n",
    "plt.grid(True)\n",
    "plt.show()\n"
   ]
  }
 ],
 "metadata": {
  "kernelspec": {
   "display_name": "Python 3",
   "language": "python",
   "name": "python3"
  },
  "language_info": {
   "codemirror_mode": {
    "name": "ipython",
    "version": 3
   },
   "file_extension": ".py",
   "mimetype": "text/x-python",
   "name": "python",
   "nbconvert_exporter": "python",
   "pygments_lexer": "ipython3",
   "version": "3.12.4"
  }
 },
 "nbformat": 4,
 "nbformat_minor": 2
}
