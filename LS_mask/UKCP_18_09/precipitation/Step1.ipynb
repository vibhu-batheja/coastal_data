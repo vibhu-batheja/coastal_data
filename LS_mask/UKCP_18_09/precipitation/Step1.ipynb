{
 "cells": [
  {
   "cell_type": "markdown",
   "metadata": {},
   "source": [
    "## Step 1 \n",
    "\n",
    "So the idea right now is that, we take the UK temprature database and remove some coastal points using those coastal points that we have removed we try to conduct imputation. So for that we need to identify the points by the coast and later remove a sample of them and try to conduct imputation on the sample that we have removed. "
   ]
  },
  {
   "cell_type": "code",
   "execution_count": 1,
   "metadata": {},
   "outputs": [],
   "source": [
    "import rasterio\n",
    "import numpy as np\n",
    "\n",
    "def process_geotiff(input_file, output_file):\n",
    "    # Open the input TIFF file\n",
    "    with rasterio.open(input_file) as src:\n",
    "        # Read the data from the first band\n",
    "        data = src.read(1)\n",
    "        \n",
    "        # Set negative and zero values to NaN\n",
    "        data[data == 0] = np.nan\n",
    "        \n",
    "        # Update the metadata to handle NaN values correctly\n",
    "        profile = src.profile\n",
    "        profile.update(\n",
    "            dtype=rasterio.float32,  # Ensure data type can handle NaN\n",
    "            nodata=np.nan            # Define nodata value\n",
    "        )\n",
    "        \n",
    "        # Write the modified data to a new TIFF file\n",
    "        with rasterio.open(output_file, 'w', **profile) as dst:\n",
    "            dst.write(data, 1)\n",
    "\n",
    "# Define input and output file paths\n",
    "input_file = 'pr_avg_1980-2011.tif'\n",
    "output_file = 'ppt_1980-2011.tif'\n",
    "\n",
    "# Process the TIFF file\n",
    "process_geotiff(input_file, output_file)"
   ]
  },
  {
   "cell_type": "markdown",
   "metadata": {},
   "source": [
    "### Raster Temprature Data to vector polygons "
   ]
  },
  {
   "cell_type": "code",
   "execution_count": 1,
   "metadata": {},
   "outputs": [
    {
     "ename": "RasterioIOError",
     "evalue": "pr_avg_1980-2011.tif: No such file or directory",
     "output_type": "error",
     "traceback": [
      "\u001b[1;31m---------------------------------------------------------------------------\u001b[0m",
      "\u001b[1;31mCPLE_OpenFailedError\u001b[0m                      Traceback (most recent call last)",
      "File \u001b[1;32mrasterio\\\\_base.pyx:310\u001b[0m, in \u001b[0;36mrasterio._base.DatasetBase.__init__\u001b[1;34m()\u001b[0m\n",
      "File \u001b[1;32mrasterio\\\\_base.pyx:221\u001b[0m, in \u001b[0;36mrasterio._base.open_dataset\u001b[1;34m()\u001b[0m\n",
      "File \u001b[1;32mrasterio\\\\_err.pyx:221\u001b[0m, in \u001b[0;36mrasterio._err.exc_wrap_pointer\u001b[1;34m()\u001b[0m\n",
      "\u001b[1;31mCPLE_OpenFailedError\u001b[0m: pr_avg_1980-2011.tif: No such file or directory",
      "\nDuring handling of the above exception, another exception occurred:\n",
      "\u001b[1;31mRasterioIOError\u001b[0m                           Traceback (most recent call last)",
      "Cell \u001b[1;32mIn[1], line 12\u001b[0m\n\u001b[0;32m      9\u001b[0m input_file \u001b[38;5;241m=\u001b[39m \u001b[38;5;124m'\u001b[39m\u001b[38;5;124mpr_avg_1980-2011.tif\u001b[39m\u001b[38;5;124m'\u001b[39m \u001b[38;5;66;03m# file made by romving -99 values from temprature data \u001b[39;00m\n\u001b[0;32m     11\u001b[0m \u001b[38;5;66;03m# Open the GeoTIFF file\u001b[39;00m\n\u001b[1;32m---> 12\u001b[0m \u001b[38;5;28;01mwith\u001b[39;00m \u001b[43mrasterio\u001b[49m\u001b[38;5;241;43m.\u001b[39;49m\u001b[43mopen\u001b[49m\u001b[43m(\u001b[49m\u001b[43minput_file\u001b[49m\u001b[43m)\u001b[49m \u001b[38;5;28;01mas\u001b[39;00m src:\n\u001b[0;32m     13\u001b[0m     \u001b[38;5;66;03m# Read the entire raster data into memory reading band 1 of the raster \u001b[39;00m\n\u001b[0;32m     14\u001b[0m     data \u001b[38;5;241m=\u001b[39m src\u001b[38;5;241m.\u001b[39mread(\u001b[38;5;241m1\u001b[39m)\n\u001b[0;32m     16\u001b[0m     \u001b[38;5;66;03m# Get the nodata value\u001b[39;00m\n",
      "File \u001b[1;32mc:\\Users\\VIBBAT\\AppData\\Local\\Programs\\Python\\Python312\\Lib\\site-packages\\rasterio\\env.py:451\u001b[0m, in \u001b[0;36mensure_env_with_credentials.<locals>.wrapper\u001b[1;34m(*args, **kwds)\u001b[0m\n\u001b[0;32m    448\u001b[0m     session \u001b[38;5;241m=\u001b[39m DummySession()\n\u001b[0;32m    450\u001b[0m \u001b[38;5;28;01mwith\u001b[39;00m env_ctor(session\u001b[38;5;241m=\u001b[39msession):\n\u001b[1;32m--> 451\u001b[0m     \u001b[38;5;28;01mreturn\u001b[39;00m \u001b[43mf\u001b[49m\u001b[43m(\u001b[49m\u001b[38;5;241;43m*\u001b[39;49m\u001b[43margs\u001b[49m\u001b[43m,\u001b[49m\u001b[43m \u001b[49m\u001b[38;5;241;43m*\u001b[39;49m\u001b[38;5;241;43m*\u001b[39;49m\u001b[43mkwds\u001b[49m\u001b[43m)\u001b[49m\n",
      "File \u001b[1;32mc:\\Users\\VIBBAT\\AppData\\Local\\Programs\\Python\\Python312\\Lib\\site-packages\\rasterio\\__init__.py:317\u001b[0m, in \u001b[0;36mopen\u001b[1;34m(fp, mode, driver, width, height, count, crs, transform, dtype, nodata, sharing, **kwargs)\u001b[0m\n\u001b[0;32m    314\u001b[0m path \u001b[38;5;241m=\u001b[39m _parse_path(raw_dataset_path)\n\u001b[0;32m    316\u001b[0m \u001b[38;5;28;01mif\u001b[39;00m mode \u001b[38;5;241m==\u001b[39m \u001b[38;5;124m\"\u001b[39m\u001b[38;5;124mr\u001b[39m\u001b[38;5;124m\"\u001b[39m:\n\u001b[1;32m--> 317\u001b[0m     dataset \u001b[38;5;241m=\u001b[39m \u001b[43mDatasetReader\u001b[49m\u001b[43m(\u001b[49m\u001b[43mpath\u001b[49m\u001b[43m,\u001b[49m\u001b[43m \u001b[49m\u001b[43mdriver\u001b[49m\u001b[38;5;241;43m=\u001b[39;49m\u001b[43mdriver\u001b[49m\u001b[43m,\u001b[49m\u001b[43m \u001b[49m\u001b[43msharing\u001b[49m\u001b[38;5;241;43m=\u001b[39;49m\u001b[43msharing\u001b[49m\u001b[43m,\u001b[49m\u001b[43m \u001b[49m\u001b[38;5;241;43m*\u001b[39;49m\u001b[38;5;241;43m*\u001b[39;49m\u001b[43mkwargs\u001b[49m\u001b[43m)\u001b[49m\n\u001b[0;32m    318\u001b[0m \u001b[38;5;28;01melif\u001b[39;00m mode \u001b[38;5;241m==\u001b[39m \u001b[38;5;124m\"\u001b[39m\u001b[38;5;124mr+\u001b[39m\u001b[38;5;124m\"\u001b[39m:\n\u001b[0;32m    319\u001b[0m     dataset \u001b[38;5;241m=\u001b[39m get_writer_for_path(path, driver\u001b[38;5;241m=\u001b[39mdriver)(\n\u001b[0;32m    320\u001b[0m         path, mode, driver\u001b[38;5;241m=\u001b[39mdriver, sharing\u001b[38;5;241m=\u001b[39msharing, \u001b[38;5;241m*\u001b[39m\u001b[38;5;241m*\u001b[39mkwargs\n\u001b[0;32m    321\u001b[0m     )\n",
      "File \u001b[1;32mrasterio\\\\_base.pyx:312\u001b[0m, in \u001b[0;36mrasterio._base.DatasetBase.__init__\u001b[1;34m()\u001b[0m\n",
      "\u001b[1;31mRasterioIOError\u001b[0m: pr_avg_1980-2011.tif: No such file or directory"
     ]
    }
   ],
   "source": [
    "import rasterio\n",
    "from shapely.geometry import Point, box\n",
    "import geopandas as gpd\n",
    "import numpy as np\n",
    "import pandas as pd\n",
    "from tqdm import tqdm\n",
    "\n",
    "# Path to your GeoTIFF file\n",
    "input_file = 'pr_avg_1980-2011.tif' # file made by romving -99 values from temprature data \n",
    "\n",
    "# Open the GeoTIFF file\n",
    "with rasterio.open(input_file) as src:\n",
    "    # Read the entire raster data into memory reading band 1 of the raster \n",
    "    data = src.read(1)\n",
    "    \n",
    "    # Get the nodata value\n",
    "    nodata_value = src.nodata\n",
    "\n",
    "    # Create a mask for valid data points (including zero values)\n",
    "    mask = (data != nodata_value) & ~np.isnan(data)\n",
    "    print(mask)\n",
    "    # Get the row and column indices of valid data points\n",
    "    row_indices, col_indices = np.where(mask)\n",
    "    \n",
    "    # Get the pixel values of the valid data points\n",
    "    values = data[mask]\n",
    "    print(values)\n",
    "    # Initialize lists to store coordinates, values, and bounds\n",
    "    lons, lats, x_mins, y_mins, x_maxs, y_maxs = [], [], [], [], [], []\n",
    "    \n",
    "    # Get pixel size (resolution)\n",
    "    pixel_size_x, pixel_size_y = src.res\n",
    "    \n",
    "    # Iterate with progress tracking\n",
    "    for row, col in tqdm(zip(row_indices, col_indices), total=len(row_indices), desc=\"Processing\"):\n",
    "        lon, lat = src.xy(row, col)\n",
    "        lons.append(lon)\n",
    "        lats.append(lat)\n",
    "        x_min, y_min = lon - pixel_size_x / 2, lat - pixel_size_y / 2\n",
    "        x_max, y_max = lon + pixel_size_x / 2, lat + pixel_size_y / 2\n",
    "        x_mins.append(x_min)\n",
    "        y_mins.append(y_min)\n",
    "        x_maxs.append(x_max)\n",
    "        y_maxs.append(y_max)\n",
    "\n",
    "# Create a DataFrame from the valid points\n",
    "df = pd.DataFrame({\n",
    "    'longitude': lons,\n",
    "    'latitude': lats,\n",
    "    'value': values,\n",
    "    'x_min': x_mins,\n",
    "    'y_min': y_mins,\n",
    "    'x_max': x_maxs,\n",
    "    'y_max': y_maxs\n",
    "})\n",
    "\n",
    "# Create a GeoDataFrame from the DataFrame\n",
    "gdf = gpd.GeoDataFrame(df, geometry=[box(x_min, y_min, x_max, y_max) for x_min, y_min, x_max, y_max in zip(df.x_min, df.y_min, df.x_max, df.y_max)], crs=src.crs)\n",
    "\n",
    "# Save the GeoDataFrame as a shapefile\n",
    "output_shapefile = 'precipitation_squares.shp'\n",
    "gdf.to_file(output_shapefile)\n",
    "\n",
    "print(f\"Shapefile saved successfully: {output_shapefile}\")\n"
   ]
  },
  {
   "cell_type": "markdown",
   "metadata": {},
   "source": [
    "Highlighting Polygons that are coastal (Idea if a square touches 7 or more squares it is landbased point )"
   ]
  },
  {
   "cell_type": "markdown",
   "metadata": {},
   "source": [
    "Need to Read algorithm how R tree is working"
   ]
  },
  {
   "cell_type": "code",
   "execution_count": 3,
   "metadata": {},
   "outputs": [
    {
     "name": "stderr",
     "output_type": "stream",
     "text": [
      "C:\\Users\\VIBBAT\\AppData\\Local\\Temp\\ipykernel_5976\\2425215990.py:46: UserWarning: Column names longer than 10 characters will be truncated when saved to ESRI Shapefile.\n",
      "  gdf.to_file(output_shapefile)\n"
     ]
    },
    {
     "name": "stdout",
     "output_type": "stream",
     "text": [
      "Classified shapefile saved successfully: classified_squares_sides_7.shp\n"
     ]
    }
   ],
   "source": [
    "import geopandas as gpd\n",
    "from shapely.geometry import Point\n",
    "\n",
    "# Function to extract points from a square's coordinates\n",
    "def extract_points(row):\n",
    "    \"\"\"Extracts the four corner points from a row of the GeoDataFrame.\"\"\"\n",
    "    x_min, y_min, x_max, y_max = row['x_min'], row['y_min'], row['x_max'], row['y_max']\n",
    "    return set([\n",
    "        (x_min, y_min),\n",
    "        (x_max, y_min),\n",
    "        (x_min, y_max),\n",
    "        (x_max, y_max)\n",
    "    ])\n",
    "\n",
    "# Function to classify a square based on its points\n",
    "def classify_square(row, all_squares):\n",
    "    \"\"\"Classify a square as 'inland' or 'coastal'.\"\"\"\n",
    "    points = extract_points(row)\n",
    "    matching_count = 0\n",
    "    \n",
    "    # Compare this square's points with all other squares\n",
    "    for other_index, other_row in all_squares.iterrows():\n",
    "        if row.name == other_index:\n",
    "            continue\n",
    "        \n",
    "        other_points = extract_points(other_row)\n",
    "        # Count how many points match\n",
    "        if len(points.intersection(other_points)) > 0:\n",
    "            matching_count += 1\n",
    "        \n",
    "        # Early exit if enough matches are found\n",
    "        if matching_count >= 7:\n",
    "            return 'inland'\n",
    "    \n",
    "    return 'coastal'\n",
    "\n",
    "# Load your shapefile into a GeoDataFrame\n",
    "input_shapefile = 'precipitation_squares.shp'\n",
    "gdf = gpd.read_file(input_shapefile)\n",
    "\n",
    "# Classify each square\n",
    "gdf['classification'] = gdf.apply(lambda row: classify_square(row, gdf), axis=1)\n",
    "\n",
    "# Save the classified GeoDataFrame to a new shapefile\n",
    "output_shapefile = 'classified_squares_sides_7.shp'\n",
    "gdf.to_file(output_shapefile)\n",
    "\n",
    "print(f\"Classified shapefile saved successfully: {output_shapefile}\")"
   ]
  },
  {
   "cell_type": "code",
   "execution_count": 4,
   "metadata": {},
   "outputs": [
    {
     "name": "stdout",
     "output_type": "stream",
     "text": [
      "Training data saved to: training_data.shp\n",
      "Imputation data saved to: imputation_data.shp\n"
     ]
    }
   ],
   "source": [
    "import geopandas as gpd\n",
    "import numpy as np\n",
    "from sklearn.model_selection import train_test_split\n",
    "\n",
    "# Load the shapefile\n",
    "input_shapefile = 'classified_squares_sides_7.shp'\n",
    "gdf = gpd.read_file(input_shapefile)\n",
    "\n",
    "# Filter coastal points\n",
    "coastal_points = gdf[gdf['classifica'] == 'coastal']\n",
    "\n",
    "# Determine the number of coastal points to delete (10%)\n",
    "num_to_delete = int(len(coastal_points) * 0.15)\n",
    "\n",
    "# Randomly select 10% of the coastal points\n",
    "coastal_to_delete = coastal_points.sample(n=num_to_delete, random_state=450)\n",
    "\n",
    "# Create a training dataset by dropping the selected coastal points\n",
    "training_data = gdf.drop(coastal_to_delete.index)\n",
    "\n",
    "# Save the training dataset to a new shapefile\n",
    "training_shapefile = 'training_data.shp'\n",
    "training_data.to_file(training_shapefile)\n",
    "\n",
    "# Save the deleted coastal points to a new shapefile for imputation\n",
    "imputation_shapefile = 'imputation_data.shp'\n",
    "coastal_to_delete.to_file(imputation_shapefile)\n",
    "\n",
    "print(f\"Training data saved to: {training_shapefile}\")\n",
    "print(f\"Imputation data saved to: {imputation_shapefile}\")\n"
   ]
  },
  {
   "cell_type": "markdown",
   "metadata": {},
   "source": [
    "Lets Try KNN "
   ]
  },
  {
   "cell_type": "code",
   "execution_count": 5,
   "metadata": {},
   "outputs": [
    {
     "name": "stdout",
     "output_type": "stream",
     "text": [
      "k=1, MSE=0.20700746258642758\n",
      "k=2, MSE=0.1787551659863256\n",
      "k=3, MSE=0.1926864852543996\n",
      "k=4, MSE=0.20525139624420607\n",
      "k=5, MSE=0.19628044428491098\n",
      "k=6, MSE=0.21374957589857832\n",
      "k=7, MSE=0.2531836560355412\n",
      "k=8, MSE=0.26544968210525616\n",
      "k=9, MSE=0.2865517630996663\n",
      "Imputed shapefile saved successfully: imputed_file1.shp\n"
     ]
    },
    {
     "data": {
      "image/png": "[encoded data removed]",
      "text/plain": [
       "<Figure size 640x480 with 1 Axes>"
      ]
     },
     "metadata": {},
     "output_type": "display_data"
    }
   ],
   "source": [
    "import geopandas as gpd\n",
    "import pandas as pd\n",
    "import numpy as np\n",
    "from sklearn.neighbors import KNeighborsRegressor\n",
    "from sklearn.metrics import mean_squared_error\n",
    "import matplotlib.pyplot as plt\n",
    "\n",
    "# Load the shapefiles\n",
    "file1 = 'imputation_data.shp'  # Imputation points with missing values\n",
    "file2 = 'training_data.shp'  # Reference data\n",
    "\n",
    "gdf1 = gpd.read_file(file1)\n",
    "gdf2 = gpd.read_file(file2)\n",
    "\n",
    "'''\n",
    "# Ensure the datasets are aligned based on coordinates (longitude and latitude)\n",
    "gdf1['longitude'] = gdf1.geometry.x\n",
    "gdf1['latitude'] = gdf1.geometry.y\n",
    "gdf2['longitude'] = gdf2.geometry.x\n",
    "gdf2['latitude'] = gdf2.geometry.y\n",
    "'''\n",
    "# Extract relevant columns for imputation\n",
    "df1 = gdf1[['longitude', 'latitude', 'value']]\n",
    "df2 = gdf2[['longitude', 'latitude', 'value']]\n",
    "\n",
    "# Prepare the KNN regressor\n",
    "def impute_knn(df_missing, df_reference, k):\n",
    "    # Fit the KNN regressor on the reference data\n",
    "    knn = KNeighborsRegressor(n_neighbors=k)\n",
    "    knn.fit(df_reference[['longitude', 'latitude']], df_reference['value'])\n",
    "\n",
    "    # Predict the missing values\n",
    "    imputed_values = knn.predict(df_missing[['longitude', 'latitude']])\n",
    "    return imputed_values\n",
    "\n",
    "# Define the range of k values to test\n",
    "k_values = range(1, 10)\n",
    "mse_values = []\n",
    "\n",
    "# Perform KNN imputation and calculate MSE for each k\n",
    "for k in k_values:\n",
    "    imputed_values = impute_knn(df1, df2, k)\n",
    "    mse = mean_squared_error(df1['value'], imputed_values)\n",
    "    mse_values.append(mse)\n",
    "    print(f'k={k}, MSE={mse}')\n",
    "\n",
    "    # Add the imputed values to the original GeoDataFrame\n",
    "    gdf1[f'imp_val_{k}'] = imputed_values\n",
    "\n",
    "# Save the modified GeoDataFrame to a new shapefile\n",
    "output_shapefile = 'imputed_file1.shp'\n",
    "gdf1.to_file(output_shapefile)\n",
    "print(f\"Imputed shapefile saved successfully: {output_shapefile}\")\n",
    "\n",
    "# Plot MSE values\n",
    "plt.plot(k_values, mse_values, marker='o')\n",
    "plt.xlabel('k (Number of Neighbors)')\n",
    "plt.ylabel('Mean Squared Error (MSE)')\n",
    "plt.title('MSE vs. k for KNN Imputation')\n",
    "plt.grid(True)\n",
    "plt.show()\n"
   ]
  },
  {
   "cell_type": "code",
   "execution_count": 17,
   "metadata": {},
   "outputs": [
    {
     "name": "stdout",
     "output_type": "stream",
     "text": [
      "[[0.0661098226215451, 0.047896568782167505, 0.048142821538219395, 0.054465657113613446, 0.06877285033675147, 0.07192997220743569, 0.08210601006556947, 0.09013350413863043, 0.10185307235480348], [0.0710840713179131, 0.03931873128233067, 0.03869124583638916, 0.05602991493980898, 0.054846212684511064, 0.06718989910311603, 0.07409175210958302, 0.08389219823860143, 0.09498322609391385], [0.06382998477800716, 0.04475187066227667, 0.04763847444780372, 0.05863023929067454, 0.0672805715999391, 0.0721765569238256, 0.08572869251707509, 0.09655698037031574, 0.10007340809410616], [0.06093548120042071, 0.030965055155135528, 0.037846437968337095, 0.04681809911534453, 0.05517934019236492, 0.05962654770441467, 0.06898333701998091, 0.07997312119323627, 0.08768637502659035], [0.06908154565201519, 0.035837177540348354, 0.04599262692067756, 0.05659148662530243, 0.07344568916370801, 0.07908534190416898, 0.08994862123652403, 0.10782759904622852, 0.11539822167113009], [0.05779362470141564, 0.04324069013864575, 0.048500843124280074, 0.05832911446721346, 0.06588588084527645, 0.07129858985452935, 0.0911977285936296, 0.09905556740862013, 0.1120722203689355], [0.07336070482929719, 0.03954848916754244, 0.04553444628767948, 0.055151432467112876, 0.06976932231657523, 0.07221613332652764, 0.08390564544154451, 0.09598483042260635, 0.10103986434345483], [0.05416333149007917, 0.03615526465657216, 0.03798930498293765, 0.04846630479452234, 0.06306716788407228, 0.07427112633426948, 0.07918442768408837, 0.08411521941532546, 0.08439750447087867], [0.057819055700373656, 0.04282190591225144, 0.0466727078778627, 0.0570284882505692, 0.05848502073327335, 0.07020294004398572, 0.07361335707513955, 0.08563260393306327, 0.0926345806416758], [0.05791416713960362, 0.04073272658807576, 0.038006945387284205, 0.04574631241611013, 0.05495646164424666, 0.058169681804658625, 0.07007703653174858, 0.08049277764634093, 0.08739214003295206]]\n"
     ]
    }
   ],
   "source": [
    "print(all_mse_values)"
   ]
  },
  {
   "cell_type": "code",
   "execution_count": 6,
   "metadata": {},
   "outputs": [
    {
     "name": "stderr",
     "output_type": "stream",
     "text": [
      "Processing Runs: 100%|██████████| 100/100 [00:05<00:00, 17.07it/s]\n"
     ]
    },
    {
     "data": {
      "image/png": "[encoded data removed]",
      "text/plain": [
       "<Figure size 640x480 with 1 Axes>"
      ]
     },
     "metadata": {},
     "output_type": "display_data"
    },
    {
     "name": "stdout",
     "output_type": "stream",
     "text": [
      "Average MSE results saved successfully: average_mse_results.csv\n"
     ]
    }
   ],
   "source": [
    "import geopandas as gpd\n",
    "import numpy as np\n",
    "import pandas as pd\n",
    "from sklearn.neighbors import KNeighborsRegressor\n",
    "from sklearn.metrics import mean_squared_error\n",
    "import matplotlib.pyplot as plt\n",
    "from tqdm import tqdm\n",
    "import random\n",
    "\n",
    "# Load the shapefile\n",
    "input_shapefile = 'classified_squares_sides_7.shp'\n",
    "gdf = gpd.read_file(input_shapefile)\n",
    "\n",
    "# Filter coastal points\n",
    "coastal_points = gdf[gdf['classifica'] == 'coastal']\n",
    "\n",
    "# Function to perform KNN imputation and calculate MSE\n",
    "def perform_imputation(random_state):\n",
    "    # Determine the number of coastal points to delete (15%)\n",
    "    num_to_delete = int(len(coastal_points) * 0.15)\n",
    "\n",
    "    # Randomly select 30% of the coastal points\n",
    "    coastal_to_delete = coastal_points.sample(n=num_to_delete, random_state=random_state)\n",
    "\n",
    "    # Create a training dataset by dropping the selected coastal points\n",
    "    training_data = gdf.drop(coastal_to_delete.index)\n",
    "\n",
    "    # Prepare the datasets for KNN\n",
    "    gdf1 = coastal_to_delete.copy()\n",
    "    gdf2 = training_data.copy()\n",
    "    # Extract relevant columns for imputation\n",
    "    df1 = gdf1[['longitude', 'latitude', 'value']]\n",
    "    df2 = gdf2[['longitude', 'latitude', 'value']]\n",
    "\n",
    "    # Define the range of k values to test\n",
    "    k_values = range(1, 10)  # Ensuring this matches in both functions\n",
    "    mse_values = np.zeros(len(k_values))  # Initialize an array to store MSE for each k\n",
    "\n",
    "    # Perform KNN imputation and calculate MSE for each k\n",
    "    for idx, k in enumerate(k_values):\n",
    "        imputed_values = impute_knn(df1, df2, k)\n",
    "        mse = mean_squared_error(df1['value'], imputed_values)\n",
    "        mse_values[idx] += mse  # Sum the MSE values\n",
    "\n",
    "    return mse_values\n",
    "\n",
    "# Prepare the KNN regressor function\n",
    "def impute_knn(df_missing, df_reference, k):\n",
    "    knn = KNeighborsRegressor(n_neighbors=k)\n",
    "    knn.fit(df_reference[['longitude', 'latitude']], df_reference['value'])\n",
    "    imputed_values = knn.predict(df_missing[['longitude', 'latitude']])\n",
    "    return imputed_values\n",
    "\n",
    "# Number of iterations with different random states\n",
    "num_iterations = 100\n",
    "k_values = range(1, 10)  # Define the k values\n",
    "cumulative_mse_values = np.zeros(len(k_values))  # Initialize an array to store cumulative MSE\n",
    "\n",
    "# Perform imputation for different random states and collect MSE values\n",
    "for i in tqdm(range(num_iterations), desc=\"Processing Runs\"):\n",
    "    # Generate a random seed value for additional randomness\n",
    "    random_seed = random.randint(0, 100000)\n",
    "    random_state = (i * 2 )+ random_seed\n",
    "    mse_values = perform_imputation(random_state=random_state)\n",
    "    cumulative_mse_values += mse_values\n",
    "\n",
    "# Calculate the average MSE for each k value\n",
    "average_mse_values = cumulative_mse_values / num_iterations\n",
    "\n",
    "# Plot average MSE values\n",
    "plt.plot(k_values, average_mse_values, marker='o')\n",
    "plt.xlabel('k (Number of Neighbors)')\n",
    "plt.ylabel('Mean Squared Error (MSE)')\n",
    "plt.title(f'Average MSE vs. k for KNN Imputation (Over {num_iterations} Runs)')\n",
    "plt.grid(True)\n",
    "plt.show()\n",
    "\n",
    "# Save the results\n",
    "results = pd.DataFrame({\n",
    "    'k': k_values,\n",
    "    'average_mse': average_mse_values\n",
    "})\n",
    "results.to_csv('average_mse_results.csv', index=False)\n",
    "print(f\"Average MSE results saved successfully: average_mse_results.csv\")\n"
   ]
  },
  {
   "cell_type": "code",
   "execution_count": 37,
   "metadata": {},
   "outputs": [
    {
     "name": "stdout",
     "output_type": "stream",
     "text": [
      "   k  average_mse\n",
      "0  1     0.076917\n",
      "1  2     0.054487\n",
      "2  3     0.059350\n",
      "3  4     0.070649\n",
      "4  5     0.081482\n",
      "5  6     0.092347\n",
      "6  7     0.103572\n",
      "7  8     0.113566\n",
      "8  9     0.122988\n"
     ]
    }
   ],
   "source": [
    "print(results)"
   ]
  },
  {
   "cell_type": "code",
   "execution_count": 28,
   "metadata": {},
   "outputs": [
    {
     "name": "stdout",
     "output_type": "stream",
     "text": [
      "   k  average_mse\n",
      "0  1     0.077492\n",
      "1  2     0.054585\n",
      "2  3     0.059626\n",
      "3  4     0.071120\n",
      "4  5     0.081944\n",
      "5  6     0.092901\n",
      "6  7     0.104192\n",
      "7  8     0.114108\n",
      "8  9     0.123704\n"
     ]
    }
   ],
   "source": [
    "print(results)"
   ]
  },
  {
   "cell_type": "markdown",
   "metadata": {},
   "source": [
    "### Further Ideas \n",
    "\n",
    "\n",
    "Problem is when you apply Land Sea mask simulation data is lost along coast \n",
    "Same should happen when you apply land sea mask \n",
    "\n",
    "\n",
    "\n",
    "Thing is simple KNN can do that also probabbly along a simple time scale just use neighbours value and fit the data (thing with KNN is there is no training data or anything its just weightage so read how this KNN is working)\n",
    "\n",
    "(Also tried removing island area coastal points but results were still kind of promising, in some cases while in some cases like lat 798000.000 long 138000.000 (I.e small isle national scenic area ) imputation gave value of MSE 0.45 best case (2 neighbours)  Since all the neighbours were having extremely diffrent conditions so it the following is really dependent on value of neighbouring data which is not the most reliable, therefore ) \n",
    "\n",
    "See how well do other methods also compare to KNN \n",
    "\n",
    "\n",
    "Check with Precipitation Data too \n",
    "Need to prepare that data set. \n",
    "\n",
    "\n",
    "\n",
    "Validation Strat improval \n",
    "1) Remove from existing and fit into the unkonw  points \n",
    "2) Check with removed simulated and see how do removed ones fit \n",
    "3) Bias correct with observational to check.\n",
    "\n",
    "### Further Readings\n",
    "\n",
    "Simulated data sets read UKCP (how does their model work)\n",
    "\n",
    "Read more about weather dasta sets \n",
    "\n",
    "Read on imputation methods (obviously)\n"
   ]
  }
 ],
 "metadata": {
  "kernelspec": {
   "display_name": "Python 3",
   "language": "python",
   "name": "python3"
  },
  "language_info": {
   "codemirror_mode": {
    "name": "ipython",
    "version": 3
   },
   "file_extension": ".py",
   "mimetype": "text/x-python",
   "name": "python",
   "nbconvert_exporter": "python",
   "pygments_lexer": "ipython3",
   "version": "3.12.0"
  }
 },
 "nbformat": 4,
 "nbformat_minor": 2
}
