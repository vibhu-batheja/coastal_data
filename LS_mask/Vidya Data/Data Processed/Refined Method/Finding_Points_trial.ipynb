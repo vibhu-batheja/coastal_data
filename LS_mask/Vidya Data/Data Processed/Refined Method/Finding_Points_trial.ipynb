{
 "cells": [
  {
   "cell_type": "markdown",
   "metadata": {},
   "source": [
    "Removing 0 values from Temprature Data"
   ]
  },
  {
   "cell_type": "code",
   "execution_count": 1,
   "metadata": {},
   "outputs": [],
   "source": [
    "import rasterio\n",
    "import numpy as np\n",
    "\n",
    "def process_geotiff(input_file, output_file):\n",
    "    # Open the input TIFF file\n",
    "    with rasterio.open(input_file) as src:\n",
    "        # Read the data from the first band\n",
    "        data = src.read(1)\n",
    "        \n",
    "        # Set negative and zero values to NaN\n",
    "        data[data == -99] = np.nan\n",
    "        \n",
    "        # Update the metadata to handle NaN values correctly\n",
    "        profile = src.profile\n",
    "        profile.update(\n",
    "            dtype=rasterio.float32,  # Ensure data type can handle NaN\n",
    "            nodata=np.nan            # Define nodata value\n",
    "        )\n",
    "        \n",
    "        # Write the modified data to a new TIFF file\n",
    "        with rasterio.open(output_file, 'w', **profile) as dst:\n",
    "            dst.write(data, 1)\n",
    "\n",
    "# Define input and output file paths\n",
    "input_file = 'UK_Avg_temp_Band1.tif'\n",
    "output_file = 'UK_temp2.tif'\n",
    "\n",
    "# Process the TIFF file\n",
    "process_geotiff(input_file, output_file)"
   ]
  },
  {
   "cell_type": "markdown",
   "metadata": {},
   "source": [
    "Removing 0 Values from DEM "
   ]
  },
  {
   "cell_type": "code",
   "execution_count": 2,
   "metadata": {},
   "outputs": [],
   "source": [
    "import rasterio\n",
    "import numpy as np\n",
    "\n",
    "def process_geotiff(input_file, output_file):\n",
    "    # Open the input TIFF file\n",
    "    with rasterio.open(input_file) as src:\n",
    "        # Read the data from the first band\n",
    "        data = src.read(1)\n",
    "        \n",
    "        # Set negative and zero values to NaN\n",
    "        data[data == 0] = np.nan\n",
    "        \n",
    "        # Update the metadata to handle NaN values correctly\n",
    "        profile = src.profile\n",
    "        profile.update(\n",
    "            dtype=rasterio.float32,  # Ensure data type can handle NaN\n",
    "            nodata=np.nan            # Define nodata value\n",
    "        )\n",
    "        \n",
    "        # Write the modified data to a new TIFF file\n",
    "        with rasterio.open(output_file, 'w', **profile) as dst:\n",
    "            dst.write(data, 1)\n",
    "\n",
    "# Define input and output file paths\n",
    "input_file = 'UK_DEM_merged.tif'\n",
    "output_file = 'UK_DEM2.tif'\n",
    "\n",
    "# Process the TIFF file\n",
    "process_geotiff(input_file, output_file)"
   ]
  },
  {
   "cell_type": "markdown",
   "metadata": {},
   "source": [
    "Finding Difference in the 2 masks "
   ]
  },
  {
   "cell_type": "code",
   "execution_count": 3,
   "metadata": {},
   "outputs": [
    {
     "name": "stdout",
     "output_type": "stream",
     "text": [
      "The difference raster has been created and saved.\n"
     ]
    }
   ],
   "source": [
    "import rasterio\n",
    "from rasterio.enums import Resampling\n",
    "from rasterio.warp import reproject\n",
    "import numpy as np\n",
    "\n",
    "# Paths to the input GeoTIFF files\n",
    "raster1_path = 'UK_DEM2.tif'\n",
    "raster2_path = 'UK_temp2.tif'\n",
    "output_path = 'UK_imputation_mask_30m.tif'\n",
    "\n",
    "# Function to create a binary mask where data is present\n",
    "def create_presence_mask(data, nodata_value):\n",
    "    mask = np.ones_like(data, dtype=np.uint8)\n",
    "    if nodata_value is not None and np.isnan(nodata_value):\n",
    "        mask[np.isnan(data)] = 0\n",
    "    elif nodata_value is not None:\n",
    "        mask[data == nodata_value] = 0\n",
    "    return mask\n",
    "\n",
    "# Open the input rasters\n",
    "with rasterio.open(raster1_path) as src1:\n",
    "    data1 = src1.read(1)\n",
    "    meta1 = src1.meta\n",
    "    nodata1 = src1.nodata\n",
    "\n",
    "with rasterio.open(raster2_path) as src2:\n",
    "    data2 = src2.read(1)\n",
    "    nodata2 = src2.nodata\n",
    "\n",
    "    # Resample raster2 to match raster1 if dimensions differ\n",
    "    if src1.shape != src2.shape:\n",
    "       \n",
    "        data2_resampled = np.empty(src1.shape, dtype=np.float32)\n",
    "        reproject(\n",
    "            source=data2,\n",
    "            destination=data2_resampled,\n",
    "            src_transform=src2.transform,\n",
    "            src_crs=src2.crs,\n",
    "            dst_transform=src1.transform,\n",
    "            dst_crs=src1.crs,\n",
    "            resampling=Resampling.bilinear\n",
    "        )\n",
    "    else:\n",
    "        data2_resampled = data2\n",
    "\n",
    "# Create presence masks for each raster\n",
    "mask1 = create_presence_mask(data1, nodata1)\n",
    "mask2 = create_presence_mask(data2_resampled, nodata2)\n",
    "\n",
    "# Calculate the difference mask\n",
    "difference_mask = mask1 & ~mask2\n",
    "\n",
    "# Update metadata for the output raster\n",
    "meta1.update(dtype=rasterio.uint8, nodata=0)\n",
    "\n",
    "# Save the difference mask as a new GeoTIFF file\n",
    "with rasterio.open(output_path, 'w', **meta1) as dst:\n",
    "    dst.write(difference_mask, 1)\n",
    "\n",
    "print(\"The difference raster has been created and saved.\")"
   ]
  },
  {
   "cell_type": "markdown",
   "metadata": {},
   "source": [
    "Points of Temprature Data "
   ]
  },
  {
   "cell_type": "code",
   "execution_count": 4,
   "metadata": {},
   "outputs": [
    {
     "name": "stdout",
     "output_type": "stream",
     "text": [
      "Shapefile saved successfully: UK_temp2.shp\n"
     ]
    }
   ],
   "source": [
    "import rasterio\n",
    "from shapely.geometry import Point\n",
    "import geopandas as gpd\n",
    "import numpy as np\n",
    "\n",
    "# Path to your GeoTIFF file\n",
    "input_file = 'UK_DEM2.tif'\n",
    "\n",
    "# Lists to store point geometries, coordinates, and pixel values\n",
    "points = []\n",
    "lats = []\n",
    "lons = []\n",
    "values = []\n",
    "\n",
    "# Open the GeoTIFF file\n",
    "with rasterio.open(input_file) as src:\n",
    "    # Get the number of rows and columns in the raster\n",
    "    rows, cols = src.shape\n",
    "    \n",
    "    # Get the nodata value\n",
    "    nodata_value = src.nodata\n",
    "\n",
    "    # Read the entire raster data into memory\n",
    "    data = src.read(1)\n",
    "\n",
    "    # Iterate through each pixel in the raster\n",
    "    for row in range(rows):\n",
    "        for col in range(cols):\n",
    "            # Read pixel value\n",
    "            pixel_value = data[row, col]\n",
    "            \n",
    "            # Check if pixel value is not nodata and not NaN\n",
    "            if pixel_value != nodata_value and not np.isnan(pixel_value):\n",
    "                # Convert pixel coordinates to geographic coordinates (longitude, latitude)\n",
    "                lon, lat = src.xy(row, col)\n",
    "\n",
    "                # Create a point geometry for each valid pixel coordinate\n",
    "                point = Point(lon, lat)\n",
    "                points.append(point)\n",
    "                lats.append(lat)\n",
    "                lons.append(lon)\n",
    "                values.append(pixel_value)\n",
    "\n",
    "# Create a GeoDataFrame from the list of points\n",
    "gdf = gpd.GeoDataFrame(geometry=points, crs=src.crs)\n",
    "\n",
    "# Add latitude, longitude, and pixel values to the GeoDataFrame\n",
    "gdf['latitude'] = lats\n",
    "gdf['longitude'] = lons\n",
    "gdf['value'] = values\n",
    "\n",
    "# Save the GeoDataFrame as a shapefile\n",
    "output_shapefile = 'UK_temp2.shp'\n",
    "gdf.to_file(output_shapefile)\n",
    "\n",
    "print(f\"Shapefile saved successfully: {output_shapefile}\")"
   ]
  },
  {
   "cell_type": "markdown",
   "metadata": {},
   "source": [
    "\n",
    "use trialruns code to now decide the file with most number of points available "
   ]
  },
  {
   "cell_type": "markdown",
   "metadata": {},
   "source": []
  }
 ],
 "metadata": {
  "kernelspec": {
   "display_name": "Python 3",
   "language": "python",
   "name": "python3"
  },
  "language_info": {
   "codemirror_mode": {
    "name": "ipython",
    "version": 3
   },
   "file_extension": ".py",
   "mimetype": "text/x-python",
   "name": "python",
   "nbconvert_exporter": "python",
   "pygments_lexer": "ipython3",
   "version": "3.12.0"
  }
 },
 "nbformat": 4,
 "nbformat_minor": 2
}
