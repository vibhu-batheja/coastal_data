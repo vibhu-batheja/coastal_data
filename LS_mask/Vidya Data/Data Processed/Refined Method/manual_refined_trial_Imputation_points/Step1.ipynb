{
 "cells": [
  {
   "cell_type": "markdown",
   "metadata": {},
   "source": [
    "## Step 1 \n",
    "\n",
    "So the idea right now is that, we take the UK temprature database and remove some coastal points using those coastal points that we have removed we try to conduct imputation. So for that we need to identify the points by the coast and later remove a sample of them and try to conduct imputation on the sample that we have removed. "
   ]
  },
  {
   "cell_type": "markdown",
   "metadata": {},
   "source": [
    "### Raster Temprature Data to vector polygons "
   ]
  },
  {
   "cell_type": "code",
   "execution_count": null,
   "metadata": {},
   "outputs": [],
   "source": [
    "import rasterio\n",
    "from shapely.geometry import Point, box\n",
    "import geopandas as gpd\n",
    "import numpy as np\n",
    "import pandas as pd\n",
    "from tqdm import tqdm\n",
    "\n",
    "# Path to your GeoTIFF file\n",
    "input_file = 'UK_temp2.tif'\n",
    "\n",
    "# Open the GeoTIFF file\n",
    "with rasterio.open(input_file) as src:\n",
    "    # Read the entire raster data into memory\n",
    "    data = src.read(1)\n",
    "    \n",
    "    # Get the nodata value\n",
    "    nodata_value = src.nodata\n",
    "\n",
    "    # Create a mask for valid data points (including zero values)\n",
    "    mask = (data != nodata_value) & ~np.isnan(data)\n",
    "    \n",
    "    # Get the row and column indices of valid data points\n",
    "    row_indices, col_indices = np.where(mask)\n",
    "    \n",
    "    # Get the pixel values of the valid data points\n",
    "    values = data[mask]\n",
    "    \n",
    "    # Initialize lists to store coordinates, values, and bounds\n",
    "    lons, lats, x_mins, y_mins, x_maxs, y_maxs = [], [], [], [], [], []\n",
    "    \n",
    "    # Get pixel size (resolution)\n",
    "    pixel_size_x, pixel_size_y = src.res\n",
    "    \n",
    "    # Iterate with progress tracking\n",
    "    for row, col in tqdm(zip(row_indices, col_indices), total=len(row_indices), desc=\"Processing\"):\n",
    "        lon, lat = src.xy(row, col)\n",
    "        lons.append(lon)\n",
    "        lats.append(lat)\n",
    "        x_min, y_min = lon - pixel_size_x / 2, lat - pixel_size_y / 2\n",
    "        x_max, y_max = lon + pixel_size_x / 2, lat + pixel_size_y / 2\n",
    "        x_mins.append(x_min)\n",
    "        y_mins.append(y_min)\n",
    "        x_maxs.append(x_max)\n",
    "        y_maxs.append(y_max)\n",
    "\n",
    "# Create a DataFrame from the valid points\n",
    "df = pd.DataFrame({\n",
    "    'longitude': lons,\n",
    "    'latitude': lats,\n",
    "    'value': values,\n",
    "    'x_min': x_mins,\n",
    "    'y_min': y_mins,\n",
    "    'x_max': x_maxs,\n",
    "    'y_max': y_maxs\n",
    "})\n",
    "\n",
    "# Create a GeoDataFrame from the DataFrame\n",
    "gdf = gpd.GeoDataFrame(df, geometry=[box(x_min, y_min, x_max, y_max) for x_min, y_min, x_max, y_max in zip(df.x_min, df.y_min, df.x_max, df.y_max)], crs=src.crs)\n",
    "\n",
    "# Save the GeoDataFrame as a shapefile\n",
    "output_shapefile = 'UK_temp2.shp'\n",
    "gdf.to_file(output_shapefile)\n",
    "\n",
    "print(f\"Shapefile saved successfully: {output_shapefile}\")\n"
   ]
  },
  {
   "cell_type": "markdown",
   "metadata": {},
   "source": [
    "Highlighting Polygons that are coastal (Idea if a square touches 7 or more squares it is landbased point )"
   ]
  },
  {
   "cell_type": "markdown",
   "metadata": {},
   "source": [
    "Read algorithm "
   ]
  },
  {
   "cell_type": "code",
   "execution_count": null,
   "metadata": {},
   "outputs": [],
   "source": [
    "import geopandas as gpd\n",
    "from shapely.geometry import Point\n",
    "\n",
    "# Function to extract points from a square's coordinates\n",
    "def extract_points(row):\n",
    "    \"\"\"Extracts the four corner points from a row of the GeoDataFrame.\"\"\"\n",
    "    x_min, y_min, x_max, y_max = row['x_min'], row['y_min'], row['x_max'], row['y_max']\n",
    "    return set([\n",
    "        (x_min, y_min),\n",
    "        (x_max, y_min),\n",
    "        (x_min, y_max),\n",
    "        (x_max, y_max)\n",
    "    ])\n",
    "\n",
    "# Function to classify a square based on its points\n",
    "def classify_square(row, all_squares):\n",
    "    \"\"\"Classify a square as 'inland' or 'coastal'.\"\"\"\n",
    "    points = extract_points(row)\n",
    "    matching_count = 0\n",
    "    \n",
    "    # Compare this square's points with all other squares\n",
    "    for other_index, other_row in all_squares.iterrows():\n",
    "        if row.name == other_index:\n",
    "            continue\n",
    "        \n",
    "        other_points = extract_points(other_row)\n",
    "        # Count how many points match\n",
    "        if len(points.intersection(other_points)) > 0:\n",
    "            matching_count += 1\n",
    "        \n",
    "        # Early exit if enough matches are found\n",
    "        if matching_count >= 7:\n",
    "            return 'inland'\n",
    "    \n",
    "    return 'coastal'\n",
    "\n",
    "# Load your shapefile into a GeoDataFrame\n",
    "input_shapefile = 'UK_temp2.shp'\n",
    "gdf = gpd.read_file(input_shapefile)\n",
    "\n",
    "# Classify each square\n",
    "gdf['classification'] = gdf.apply(lambda row: classify_square(row, gdf), axis=1)\n",
    "\n",
    "# Save the classified GeoDataFrame to a new shapefile\n",
    "output_shapefile = 'classified_squares2.shp'\n",
    "gdf.to_file(output_shapefile)\n",
    "\n",
    "print(f\"Classified shapefile saved successfully: {output_shapefile}\")\n"
   ]
  }
 ],
 "metadata": {
  "kernelspec": {
   "display_name": "Python 3",
   "language": "python",
   "name": "python3"
  },
  "language_info": {
   "name": "python",
   "version": "3.12.0"
  }
 },
 "nbformat": 4,
 "nbformat_minor": 2
}
