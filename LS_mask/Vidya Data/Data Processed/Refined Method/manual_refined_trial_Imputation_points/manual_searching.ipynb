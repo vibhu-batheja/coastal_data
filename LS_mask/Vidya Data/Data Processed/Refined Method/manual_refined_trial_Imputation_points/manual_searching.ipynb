{
 "cells": [
  {
   "cell_type": "markdown",
   "metadata": {},
   "source": [
    "Removing 0 from DEM "
   ]
  },
  {
   "cell_type": "code",
   "execution_count": null,
   "metadata": {},
   "outputs": [],
   "source": [
    "import rasterio\n",
    "import numpy as np\n",
    "\n",
    "def process_geotiff(input_file, output_file):\n",
    "    # Open the input TIFF file\n",
    "    with rasterio.open(input_file) as src:\n",
    "        # Read the data from the first band\n",
    "        data = src.read(1)\n",
    "        \n",
    "        # Set negative and zero values to NaN\n",
    "        data[data == 0] = np.nan\n",
    "        \n",
    "        # Update the metadata to handle NaN values correctly\n",
    "        profile = src.profile\n",
    "        profile.update(\n",
    "            dtype=rasterio.float32,  # Ensure data type can handle NaN\n",
    "            nodata=np.nan            # Define nodata value\n",
    "        )\n",
    "        \n",
    "        # Write the modified data to a new TIFF file\n",
    "        with rasterio.open(output_file, 'w', **profile) as dst:\n",
    "            dst.write(data, 1)\n",
    "\n",
    "# Define input and output file paths\n",
    "input_file = 'UK_DEM_merged.tif'\n",
    "output_file = 'UK_DEM2.tif'\n",
    "\n",
    "# Process the TIFF file\n",
    "process_geotiff(input_file, output_file)"
   ]
  },
  {
   "cell_type": "markdown",
   "metadata": {},
   "source": [
    "Making Points out of DEM"
   ]
  },
  {
   "cell_type": "code",
   "execution_count": 4,
   "metadata": {},
   "outputs": [
    {
     "name": "stderr",
     "output_type": "stream",
     "text": [
      "Processing: 100%|██████████| 1346519/1346519 [00:49<00:00, 26943.62it/s]\n"
     ]
    },
    {
     "name": "stdout",
     "output_type": "stream",
     "text": [
      "Shapefile saved successfully: UK_DEM.shp\n"
     ]
    }
   ],
   "source": [
    "import rasterio\n",
    "from shapely.geometry import Point\n",
    "import geopandas as gpd\n",
    "import numpy as np\n",
    "import pandas as pd\n",
    "from tqdm import tqdm\n",
    "\n",
    "# Path to your GeoTIFF file\n",
    "input_file = 'UK_DEM2.tif'\n",
    "\n",
    "# Open the GeoTIFF file\n",
    "with rasterio.open(input_file) as src:\n",
    "    # Read the entire raster data into memory\n",
    "    data = src.read(1)\n",
    "    \n",
    "    # Get the nodata value\n",
    "    nodata_value = src.nodata\n",
    "\n",
    "    # Create a mask for valid data points (including zero values)\n",
    "    mask = (data != nodata_value) & ~np.isnan(data)\n",
    "    \n",
    "    # Get the row and column indices of valid data points\n",
    "    row_indices, col_indices = np.where(mask)\n",
    "    \n",
    "    # Get the pixel values of the valid data points\n",
    "    values = data[mask]\n",
    "    \n",
    "    # Initialize lists to store coordinates and values\n",
    "    lons, lats = [], []\n",
    "    \n",
    "    # Iterate with progress tracking\n",
    "    for row, col in tqdm(zip(row_indices, col_indices), total=len(row_indices), desc=\"Processing\"):\n",
    "        lon, lat = src.xy(row, col)\n",
    "        lons.append(lon)\n",
    "        lats.append(lat)\n",
    "\n",
    "# Create a DataFrame from the valid points\n",
    "df = pd.DataFrame({\n",
    "    'longitude': lons,\n",
    "    'latitude': lats,\n",
    "    'value': values\n",
    "})\n",
    "\n",
    "# Create a GeoDataFrame from the DataFrame\n",
    "gdf = gpd.GeoDataFrame(df, geometry=gpd.points_from_xy(df.longitude, df.latitude), crs=src.crs)\n",
    "\n",
    "# Save the GeoDataFrame as a shapefile\n",
    "output_shapefile = 'UK_DEM.shp'\n",
    "gdf.to_file(output_shapefile)\n",
    "\n",
    "print(f\"Shapefile saved successfully: {output_shapefile}\")\n"
   ]
  },
  {
   "cell_type": "markdown",
   "metadata": {},
   "source": [
    "Current Idea make a take the bounds of 12 km square, and if lat and long of 30m fall in the bounds of 12km square then we delete those points. "
   ]
  },
  {
   "cell_type": "markdown",
   "metadata": {},
   "source": [
    "Removing 0 from temprature "
   ]
  },
  {
   "cell_type": "code",
   "execution_count": null,
   "metadata": {},
   "outputs": [],
   "source": [
    "import rasterio\n",
    "import numpy as np\n",
    "\n",
    "def process_geotiff(input_file, output_file):\n",
    "    # Open the input TIFF file\n",
    "    with rasterio.open(input_file) as src:\n",
    "        # Read the data from the first band\n",
    "        data = src.read(1)\n",
    "        \n",
    "        # Set negative and zero values to NaN\n",
    "        data[data == -99] = np.nan\n",
    "        \n",
    "        # Update the metadata to handle NaN values correctly\n",
    "        profile = src.profile\n",
    "        profile.update(\n",
    "            dtype=rasterio.float32,  # Ensure data type can handle NaN\n",
    "            nodata=np.nan            # Define nodata value\n",
    "        )\n",
    "        \n",
    "        # Write the modified data to a new TIFF file\n",
    "        with rasterio.open(output_file, 'w', **profile) as dst:\n",
    "            dst.write(data, 1)\n",
    "\n",
    "# Define input and output file paths\n",
    "input_file = 'UK_Avg_temp_Band1.tif'\n",
    "output_file = 'UK_temp2.tif'\n",
    "\n",
    "# Process the TIFF file\n",
    "process_geotiff(input_file, output_file)"
   ]
  },
  {
   "cell_type": "markdown",
   "metadata": {},
   "source": [
    "Making temprature data polygons "
   ]
  },
  {
   "cell_type": "code",
   "execution_count": 3,
   "metadata": {},
   "outputs": [
    {
     "name": "stderr",
     "output_type": "stream",
     "text": [
      "Processing: 100%|██████████| 2498/2498 [00:00<00:00, 21018.68it/s]\n"
     ]
    },
    {
     "name": "stdout",
     "output_type": "stream",
     "text": [
      "Shapefile saved successfully: UK_temp2.shp\n"
     ]
    }
   ],
   "source": [
    "import rasterio\n",
    "from shapely.geometry import Point, box\n",
    "import geopandas as gpd\n",
    "import numpy as np\n",
    "import pandas as pd\n",
    "from tqdm import tqdm\n",
    "\n",
    "# Path to your GeoTIFF file\n",
    "input_file = 'UK_temp2.tif'\n",
    "\n",
    "# Open the GeoTIFF file\n",
    "with rasterio.open(input_file) as src:\n",
    "    # Read the entire raster data into memory\n",
    "    data = src.read(1)\n",
    "    \n",
    "    # Get the nodata value\n",
    "    nodata_value = src.nodata\n",
    "\n",
    "    # Create a mask for valid data points (including zero values)\n",
    "    mask = (data != nodata_value) & ~np.isnan(data)\n",
    "    \n",
    "    # Get the row and column indices of valid data points\n",
    "    row_indices, col_indices = np.where(mask)\n",
    "    \n",
    "    # Get the pixel values of the valid data points\n",
    "    values = data[mask]\n",
    "    \n",
    "    # Initialize lists to store coordinates, values, and bounds\n",
    "    lons, lats, x_mins, y_mins, x_maxs, y_maxs = [], [], [], [], [], []\n",
    "    \n",
    "    # Get pixel size (resolution)\n",
    "    pixel_size_x, pixel_size_y = src.res\n",
    "    \n",
    "    # Iterate with progress tracking\n",
    "    for row, col in tqdm(zip(row_indices, col_indices), total=len(row_indices), desc=\"Processing\"):\n",
    "        lon, lat = src.xy(row, col)\n",
    "        lons.append(lon)\n",
    "        lats.append(lat)\n",
    "        x_min, y_min = lon - pixel_size_x / 2, lat - pixel_size_y / 2\n",
    "        x_max, y_max = lon + pixel_size_x / 2, lat + pixel_size_y / 2\n",
    "        x_mins.append(x_min)\n",
    "        y_mins.append(y_min)\n",
    "        x_maxs.append(x_max)\n",
    "        y_maxs.append(y_max)\n",
    "\n",
    "# Create a DataFrame from the valid points\n",
    "df = pd.DataFrame({\n",
    "    'longitude': lons,\n",
    "    'latitude': lats,\n",
    "    'value': values,\n",
    "    'x_min': x_mins,\n",
    "    'y_min': y_mins,\n",
    "    'x_max': x_maxs,\n",
    "    'y_max': y_maxs\n",
    "})\n",
    "\n",
    "# Create a GeoDataFrame from the DataFrame\n",
    "gdf = gpd.GeoDataFrame(df, geometry=[box(x_min, y_min, x_max, y_max) for x_min, y_min, x_max, y_max in zip(df.x_min, df.y_min, df.x_max, df.y_max)], crs=src.crs)\n",
    "\n",
    "# Save the GeoDataFrame as a shapefile\n",
    "output_shapefile = 'UK_temp2.shp'\n",
    "gdf.to_file(output_shapefile)\n",
    "\n",
    "print(f\"Shapefile saved successfully: {output_shapefile}\")\n"
   ]
  },
  {
   "cell_type": "markdown",
   "metadata": {},
   "source": [
    "### Need to really understand this sorting algorithm "
   ]
  },
  {
   "cell_type": "code",
   "execution_count": 17,
   "metadata": {},
   "outputs": [
    {
     "name": "stdout",
     "output_type": "stream",
     "text": [
      "reading start\n",
      "reading over\n",
      "Polygons CRS: EPSG:27700\n",
      "Points CRS: EPSG:4326\n",
      "Points reprojected to CRS: EPSG:27700\n"
     ]
    },
    {
     "name": "stderr",
     "output_type": "stream",
     "text": [
      "Processing points: 100%|██████████| 1346519/1346519 [29:38<00:00, 757.27it/s] \n"
     ]
    },
    {
     "name": "stdout",
     "output_type": "stream",
     "text": [
      "Filtered points saved successfully: remaining_points.shp\n"
     ]
    }
   ],
   "source": [
    "import geopandas as gpd\n",
    "from shapely.geometry import Point\n",
    "import rtree\n",
    "import pandas as pd\n",
    "from tqdm import tqdm\n",
    "\n",
    "# Load the shapefile with polygons (bounding boxes)\n",
    "polygons_gdf = gpd.read_file('UK_temp2.shp')\n",
    "\n",
    "# Load the shapefile with points\n",
    "points_gdf = gpd.read_file('UK_DEM.shp')\n",
    "\n",
    "# Check the coordinate reference systems (CRS)\n",
    "print(f\"Polygons CRS: {polygons_gdf.crs}\")\n",
    "print(f\"Points CRS: {points_gdf.crs}\")\n",
    "\n",
    "# Ensure both GeoDataFrames have the same CRS\n",
    "if polygons_gdf.crs != points_gdf.crs:\n",
    "    points_gdf = points_gdf.to_crs(polygons_gdf.crs)\n",
    "    print(f\"Points reprojected to CRS: {points_gdf.crs}\")\n",
    "\n",
    "# Create an R-tree index for the bounding boxes\n",
    "idx = rtree.index.Index()\n",
    "for poly_id, geometry in enumerate(polygons_gdf.geometry):\n",
    "    idx.insert(poly_id, geometry.bounds)\n",
    "\n",
    "# Initialize a list to keep indices of points that are not within any polygon\n",
    "remaining_indices = []\n",
    "\n",
    "# Iterate through each point with a progress bar\n",
    "for i, point in enumerate(tqdm(points_gdf.geometry, desc=\"Processing points\")):\n",
    "    # Get possible matching bounding boxes using the R-tree index\n",
    "    possible_matches_index = list(idx.intersection(point.bounds))\n",
    "    possible_matches = polygons_gdf.iloc[possible_matches_index]\n",
    "    \n",
    "    # Check if the point is actually within any of these polygons\n",
    "    if not any(possible_matches.contains(point)):\n",
    "        remaining_indices.append(i)\n",
    "\n",
    "# Filter the points_gdf to keep only points not within any polygon\n",
    "remaining_points_gdf = points_gdf.iloc[remaining_indices]\n",
    "\n",
    "# Save the remaining points to a new shapefile\n",
    "remaining_points_gdf.to_file('remaining_points.shp')\n",
    "\n",
    "print(f\"Filtered points saved successfully: remaining_points.shp\")\n",
    "\n",
    "\n"
   ]
  },
  {
   "cell_type": "markdown",
   "metadata": {},
   "source": [
    "Converting Vector to raster and removing 0 and no data value points "
   ]
  },
  {
   "cell_type": "code",
   "execution_count": 58,
   "metadata": {},
   "outputs": [],
   "source": [
    "import geopandas as gpd\n",
    "import rasterio\n",
    "from rasterio.transform import from_origin\n",
    "import numpy as np\n",
    "\n",
    "def vector_to_raster(vector_shapefile, reference_raster_file, output_raster_file, no_data_value=-9999):\n",
    "    \"\"\"\n",
    "    Converts vector data from a shapefile to raster format using a reference raster.\n",
    "\n",
    "    Parameters:\n",
    "    - vector_shapefile: path to the vector shapefile (with columns: longitude, latitude, value)\n",
    "    - reference_raster_file: path to the reference raster file\n",
    "    - output_raster_file: path for the output raster file\n",
    "    - no_data_value: value to represent no data in the raster\n",
    "    \"\"\"\n",
    "\n",
    "    # Load the vector data\n",
    "    vector_data = gpd.read_file(vector_shapefile)\n",
    "    if 'longitude' not in vector_data.columns or 'latitude' not in vector_data.columns or 'value' not in vector_data.columns:\n",
    "        raise ValueError(\"Shapefile must contain 'longitude', 'latitude', and 'value' columns.\")\n",
    "\n",
    "    # Open the reference raster\n",
    "    with rasterio.open(reference_raster_file) as ref_raster:\n",
    "        ref_transform = ref_raster.transform\n",
    "        ref_crs = ref_raster.crs\n",
    "        ref_width = ref_raster.width\n",
    "        ref_height = ref_raster.height\n",
    "        ref_pixel_size_x = ref_transform[0]\n",
    "        ref_pixel_size_y = -ref_transform[4]  # Pixel size in y-direction is negative in geotransform\n",
    "        ref_min_lon = ref_transform[2]\n",
    "        ref_max_lat = ref_transform[5]\n",
    "\n",
    "    # Create an empty raster array\n",
    "    raster_data = np.full((ref_height, ref_width), no_data_value, dtype=np.float32)\n",
    "\n",
    "    # Fill the raster data with values from vector data\n",
    "    for _, row in vector_data.iterrows():\n",
    "        lon = row['longitude']\n",
    "        lat = row['latitude']\n",
    "        value = row['value']\n",
    "        x_idx = int((lon - ref_min_lon) / ref_pixel_size_x)\n",
    "        y_idx = int((ref_max_lat - lat) / ref_pixel_size_y)\n",
    "        if 0 <= x_idx < ref_width and 0 <= y_idx < ref_height:\n",
    "            raster_data[y_idx, x_idx] = value\n",
    "\n",
    "    # Create the output raster file\n",
    "    with rasterio.open(\n",
    "        output_raster_file, 'w', driver='GTiff',\n",
    "        height=raster_data.shape[0], width=raster_data.shape[1],\n",
    "        count=1, dtype=raster_data.dtype,\n",
    "        crs=ref_crs, transform=ref_transform\n",
    "    ) as dst:\n",
    "        dst.write(raster_data, 1)\n",
    "        dst.write_mask(raster_data != no_data_value)  # Set no-data mask\n",
    "\n",
    "# Example usage\n",
    "vector_shapefile = 'filtered_points_30m_DEM.shp'\n",
    "reference_raster_file = 'UK_DEM2.tif'\n",
    "output_raster_file = 'imputation_raster_30m.tif'\n",
    "\n",
    "vector_to_raster(vector_shapefile, reference_raster_file, output_raster_file)\n"
   ]
  },
  {
   "cell_type": "markdown",
   "metadata": {},
   "source": [
    "###  Resampling to the Temprature data resolution  "
   ]
  },
  {
   "cell_type": "code",
   "execution_count": 42,
   "metadata": {},
   "outputs": [
    {
     "name": "stderr",
     "output_type": "stream",
     "text": [
      "Resampling Methods:   7%|▋         | 1/14 [00:01<00:16,  1.30s/it]"
     ]
    },
    {
     "name": "stdout",
     "output_type": "stream",
     "text": [
      "The final raster with NaN values for zero data using nearest has been created and saved.\n"
     ]
    },
    {
     "name": "stderr",
     "output_type": "stream",
     "text": [
      "Resampling Methods:  14%|█▍        | 2/14 [00:01<00:08,  1.35it/s]"
     ]
    },
    {
     "name": "stdout",
     "output_type": "stream",
     "text": [
      "The final raster with NaN values for zero data using bilinear has been created and saved.\n"
     ]
    },
    {
     "name": "stderr",
     "output_type": "stream",
     "text": [
      "Resampling Methods:  21%|██▏       | 3/14 [00:01<00:06,  1.81it/s]"
     ]
    },
    {
     "name": "stdout",
     "output_type": "stream",
     "text": [
      "The final raster with NaN values for zero data using cubic has been created and saved.\n"
     ]
    },
    {
     "name": "stderr",
     "output_type": "stream",
     "text": [
      "Resampling Methods:  29%|██▊       | 4/14 [00:02<00:04,  2.14it/s]"
     ]
    },
    {
     "name": "stdout",
     "output_type": "stream",
     "text": [
      "The final raster with NaN values for zero data using cubic_spline has been created and saved.\n"
     ]
    },
    {
     "name": "stderr",
     "output_type": "stream",
     "text": [
      "Resampling Methods:  36%|███▌      | 5/14 [00:02<00:03,  2.41it/s]"
     ]
    },
    {
     "name": "stdout",
     "output_type": "stream",
     "text": [
      "The final raster with NaN values for zero data using lanczos has been created and saved.\n"
     ]
    },
    {
     "name": "stderr",
     "output_type": "stream",
     "text": [
      "Resampling Methods:  43%|████▎     | 6/14 [00:02<00:03,  2.55it/s]"
     ]
    },
    {
     "name": "stdout",
     "output_type": "stream",
     "text": [
      "The final raster with NaN values for zero data using average has been created and saved.\n"
     ]
    },
    {
     "name": "stderr",
     "output_type": "stream",
     "text": [
      "Resampling Methods:  50%|█████     | 7/14 [00:03<00:02,  2.62it/s]"
     ]
    },
    {
     "name": "stdout",
     "output_type": "stream",
     "text": [
      "The final raster with NaN values for zero data using mode has been created and saved.\n"
     ]
    },
    {
     "name": "stderr",
     "output_type": "stream",
     "text": [
      "Resampling Methods:  57%|█████▋    | 8/14 [00:03<00:02,  2.51it/s]"
     ]
    },
    {
     "name": "stdout",
     "output_type": "stream",
     "text": [
      "The final raster with NaN values for zero data using max has been created and saved.\n"
     ]
    },
    {
     "name": "stderr",
     "output_type": "stream",
     "text": [
      "Resampling Methods:  64%|██████▍   | 9/14 [00:04<00:01,  2.59it/s]"
     ]
    },
    {
     "name": "stdout",
     "output_type": "stream",
     "text": [
      "The final raster with NaN values for zero data using min has been created and saved.\n"
     ]
    },
    {
     "name": "stderr",
     "output_type": "stream",
     "text": [
      "Resampling Methods:  71%|███████▏  | 10/14 [00:04<00:01,  2.65it/s]"
     ]
    },
    {
     "name": "stdout",
     "output_type": "stream",
     "text": [
      "The final raster with NaN values for zero data using med has been created and saved.\n"
     ]
    },
    {
     "name": "stderr",
     "output_type": "stream",
     "text": [
      "Resampling Methods:  79%|███████▊  | 11/14 [00:04<00:01,  2.78it/s]"
     ]
    },
    {
     "name": "stdout",
     "output_type": "stream",
     "text": [
      "The final raster with NaN values for zero data using q1 has been created and saved.\n"
     ]
    },
    {
     "name": "stderr",
     "output_type": "stream",
     "text": [
      "Resampling Methods:  86%|████████▌ | 12/14 [00:05<00:00,  2.85it/s]"
     ]
    },
    {
     "name": "stdout",
     "output_type": "stream",
     "text": [
      "The final raster with NaN values for zero data using q3 has been created and saved.\n"
     ]
    },
    {
     "name": "stderr",
     "output_type": "stream",
     "text": [
      "Resampling Methods:  93%|█████████▎| 13/14 [00:05<00:00,  2.30it/s]"
     ]
    },
    {
     "name": "stdout",
     "output_type": "stream",
     "text": [
      "The final raster with NaN values for zero data using sum has been created and saved.\n"
     ]
    },
    {
     "name": "stderr",
     "output_type": "stream",
     "text": [
      "Resampling Methods: 100%|██████████| 14/14 [00:06<00:00,  2.30it/s]"
     ]
    },
    {
     "name": "stdout",
     "output_type": "stream",
     "text": [
      "The final raster with NaN values for zero data using rms has been created and saved.\n",
      "List of all processed file paths:\n",
      "manual_method_resampling\\nearest\\UK_imputation_resampled_12km_nearest_processed.tif\n",
      "manual_method_resampling\\bilinear\\UK_imputation_resampled_12km_bilinear_processed.tif\n",
      "manual_method_resampling\\cubic\\UK_imputation_resampled_12km_cubic_processed.tif\n",
      "manual_method_resampling\\cubic_spline\\UK_imputation_resampled_12km_cubic_spline_processed.tif\n",
      "manual_method_resampling\\lanczos\\UK_imputation_resampled_12km_lanczos_processed.tif\n",
      "manual_method_resampling\\average\\UK_imputation_resampled_12km_average_processed.tif\n",
      "manual_method_resampling\\mode\\UK_imputation_resampled_12km_mode_processed.tif\n",
      "manual_method_resampling\\max\\UK_imputation_resampled_12km_max_processed.tif\n",
      "manual_method_resampling\\min\\UK_imputation_resampled_12km_min_processed.tif\n",
      "manual_method_resampling\\med\\UK_imputation_resampled_12km_med_processed.tif\n",
      "manual_method_resampling\\q1\\UK_imputation_resampled_12km_q1_processed.tif\n",
      "manual_method_resampling\\q3\\UK_imputation_resampled_12km_q3_processed.tif\n",
      "manual_method_resampling\\sum\\UK_imputation_resampled_12km_sum_processed.tif\n",
      "manual_method_resampling\\rms\\UK_imputation_resampled_12km_rms_processed.tif\n"
     ]
    },
    {
     "name": "stderr",
     "output_type": "stream",
     "text": [
      "\n"
     ]
    }
   ],
   "source": [
    "import os\n",
    "import rasterio\n",
    "from rasterio.enums import Resampling\n",
    "import numpy as np\n",
    "from tqdm import tqdm\n",
    "\n",
    "# Define the resampling methods\n",
    "resampling_methods = [\n",
    "    Resampling.nearest,\n",
    "    Resampling.bilinear,\n",
    "    Resampling.cubic,\n",
    "    Resampling.cubic_spline,\n",
    "    Resampling.lanczos,\n",
    "    Resampling.average,\n",
    "    Resampling.mode,\n",
    "    Resampling.max,\n",
    "    Resampling.min,\n",
    "    Resampling.med,\n",
    "    Resampling.q1,\n",
    "    Resampling.q3,\n",
    "    Resampling.sum,\n",
    "    Resampling.rms\n",
    "]\n",
    "\n",
    "# Paths to the input GeoTIFF files\n",
    "raster1_path = 'UK_temp2.tif'  # This is the reference raster for resolution\n",
    "raster2_path = 'imputation_raster_30m.tif'\n",
    "\n",
    "# Main directory for storing the processed files\n",
    "main_dir = 'manual_method_resampling'\n",
    "os.makedirs(main_dir, exist_ok=True)\n",
    "\n",
    "# List to store paths of all processed files\n",
    "processed_file_paths = []\n",
    "\n",
    "# Function to process the GeoTIFF to set zero values to NaN\n",
    "def process_geotiff(data, profile, output_file):\n",
    "    data[data == 0] = np.nan\n",
    "    profile.update(dtype=rasterio.float32, nodata=np.nan)\n",
    "    with rasterio.open(output_file, 'w', **profile) as dst:\n",
    "        dst.write(data, 1)\n",
    "\n",
    "# Loop through each resampling method with a progress bar\n",
    "for method in tqdm(resampling_methods, desc=\"Resampling Methods\"):\n",
    "    method_name = method.name.lower()\n",
    "    method_dir = os.path.join(main_dir, method_name)\n",
    "    os.makedirs(method_dir, exist_ok=True)\n",
    "\n",
    "    final_output_path = os.path.join(method_dir, f'UK_imputation_resampled_12km_{method_name}_processed.tif')\n",
    "\n",
    "    # Step 1: Resample raster2 to match the resolution of raster1 using the current method\n",
    "    with rasterio.open(raster1_path) as src_ref:\n",
    "        profile_ref = src_ref.profile\n",
    "        transform_ref = src_ref.transform\n",
    "\n",
    "    with rasterio.open(raster2_path) as src:\n",
    "        data = src.read(1)\n",
    "        resampled_data = np.empty(src_ref.shape, dtype=np.float32)\n",
    "        rasterio.warp.reproject(                                    # WARP reprojection \n",
    "            source=rasterio.band(src, 1),\n",
    "            destination=resampled_data,\n",
    "            src_transform=src.transform,\n",
    "            src_crs=src.crs,\n",
    "            dst_transform=transform_ref,\n",
    "            dst_crs=profile_ref['crs'],\n",
    "            resampling=method\n",
    "        )\n",
    "\n",
    "    # Step 2: Process the resampled data to set zero values to NaN and save the final file\n",
    "    process_geotiff(resampled_data, profile_ref, final_output_path)\n",
    "    print(f\"The final raster with NaN values for zero data using {method_name} has been created and saved.\")\n",
    "\n",
    "    # Store the processed file path\n",
    "    processed_file_paths.append(final_output_path)\n",
    "\n",
    "# Print or use the list of processed file paths as needed\n",
    "print(\"List of all processed file paths:\")\n",
    "for path in processed_file_paths:\n",
    "    print(path)\n"
   ]
  },
  {
   "cell_type": "markdown",
   "metadata": {},
   "source": [
    "### Generate Temprature Data Points"
   ]
  },
  {
   "cell_type": "code",
   "execution_count": 43,
   "metadata": {},
   "outputs": [
    {
     "name": "stdout",
     "output_type": "stream",
     "text": [
      "Shapefile saved successfully: UK_temp.shp\n"
     ]
    }
   ],
   "source": [
    "import rasterio\n",
    "from shapely.geometry import Point\n",
    "import geopandas as gpd\n",
    "import numpy as np\n",
    "\n",
    "# Path to your GeoTIFF file\n",
    "input_file = 'UK_temp2.tif'\n",
    "\n",
    "# Lists to store point geometries, coordinates, and pixel values\n",
    "points = []\n",
    "lats = []\n",
    "lons = []\n",
    "values = []\n",
    "\n",
    "# Open the GeoTIFF file\n",
    "with rasterio.open(input_file) as src:\n",
    "    # Get the number of rows and columns in the raster\n",
    "    rows, cols = src.shape\n",
    "    \n",
    "    # Get the nodata value\n",
    "    nodata_value = src.nodata\n",
    "\n",
    "    # Read the entire raster data into memory\n",
    "    data = src.read(1)\n",
    "\n",
    "    # Iterate through each pixel in the raster\n",
    "    for row in range(rows):\n",
    "        for col in range(cols):\n",
    "            # Read pixel value\n",
    "            pixel_value = data[row, col]\n",
    "            \n",
    "            # Check if pixel value is not nodata and not NaN\n",
    "            if pixel_value != nodata_value and not np.isnan(pixel_value):\n",
    "                # Convert pixel coordinates to geographic coordinates (longitude, latitude)\n",
    "                lon, lat = src.xy(row, col)\n",
    "\n",
    "                # Create a point geometry for each valid pixel coordinate\n",
    "                point = Point(lon, lat)\n",
    "                points.append(point)\n",
    "                lats.append(lat)\n",
    "                lons.append(lon)\n",
    "                values.append(pixel_value)\n",
    "\n",
    "# Create a GeoDataFrame from the list of points\n",
    "gdf = gpd.GeoDataFrame(geometry=points, crs=src.crs)\n",
    "\n",
    "# Add latitude, longitude, and pixel values to the GeoDataFrame\n",
    "gdf['latitude'] = lats\n",
    "gdf['longitude'] = lons\n",
    "gdf['value'] = values\n",
    "\n",
    "# Save the GeoDataFrame as a shapefile\n",
    "output_shapefile = 'UK_temp.shp'\n",
    "gdf.to_file(output_shapefile)\n",
    "\n",
    "print(f\"Shapefile saved successfully: {output_shapefile}\")"
   ]
  },
  {
   "cell_type": "markdown",
   "metadata": {},
   "source": [
    "### Converting the diffrence tiff to points and deleting extra points \n",
    "and removing 0 and no data value points "
   ]
  },
  {
   "cell_type": "code",
   "execution_count": 47,
   "metadata": {},
   "outputs": [
    {
     "name": "stderr",
     "output_type": "stream",
     "text": [
      "Converting Raster to Points: 100%|██████████| 112/112 [00:00<00:00, 888.72it/s]\n"
     ]
    },
    {
     "name": "stdout",
     "output_type": "stream",
     "text": [
      "Shapefile saved successfully: manual_method_resampling\\nearest\\UK_imputation_resampled_12km_nearest_processed_intermediate.shp\n"
     ]
    },
    {
     "name": "stderr",
     "output_type": "stream",
     "text": [
      "Processing Files:   7%|▋         | 1/14 [00:02<00:29,  2.26s/it]"
     ]
    },
    {
     "name": "stdout",
     "output_type": "stream",
     "text": [
      "Filtered shapefile saved successfully: manual_method_resampling\\nearest\\UK_imputation_resampled_12km_nearest_processed.shp\n",
      "Intermediate shapefile removed: manual_method_resampling\\nearest\\UK_imputation_resampled_12km_nearest_processed_intermediate.shp\n"
     ]
    },
    {
     "name": "stderr",
     "output_type": "stream",
     "text": [
      "Converting Raster to Points: 100%|██████████| 112/112 [00:00<00:00, 2754.85it/s]"
     ]
    },
    {
     "name": "stdout",
     "output_type": "stream",
     "text": [
      "Shapefile saved successfully: manual_method_resampling\\bilinear\\UK_imputation_resampled_12km_bilinear_processed_intermediate.shp\n"
     ]
    },
    {
     "name": "stderr",
     "output_type": "stream",
     "text": [
      "\n",
      "Processing Files:  14%|█▍        | 2/14 [00:04<00:25,  2.11s/it]"
     ]
    },
    {
     "name": "stdout",
     "output_type": "stream",
     "text": [
      "Filtered shapefile saved successfully: manual_method_resampling\\bilinear\\UK_imputation_resampled_12km_bilinear_processed.shp\n",
      "Intermediate shapefile removed: manual_method_resampling\\bilinear\\UK_imputation_resampled_12km_bilinear_processed_intermediate.shp\n"
     ]
    },
    {
     "name": "stderr",
     "output_type": "stream",
     "text": [
      "Converting Raster to Points: 100%|██████████| 112/112 [00:00<00:00, 2764.46it/s]"
     ]
    },
    {
     "name": "stdout",
     "output_type": "stream",
     "text": [
      "Shapefile saved successfully: manual_method_resampling\\cubic\\UK_imputation_resampled_12km_cubic_processed_intermediate.shp\n"
     ]
    },
    {
     "name": "stderr",
     "output_type": "stream",
     "text": [
      "\n",
      "Processing Files:  21%|██▏       | 3/14 [00:06<00:21,  1.99s/it]"
     ]
    },
    {
     "name": "stdout",
     "output_type": "stream",
     "text": [
      "Filtered shapefile saved successfully: manual_method_resampling\\cubic\\UK_imputation_resampled_12km_cubic_processed.shp\n",
      "Intermediate shapefile removed: manual_method_resampling\\cubic\\UK_imputation_resampled_12km_cubic_processed_intermediate.shp\n"
     ]
    },
    {
     "name": "stderr",
     "output_type": "stream",
     "text": [
      "Converting Raster to Points: 100%|██████████| 112/112 [00:00<00:00, 2752.30it/s]"
     ]
    },
    {
     "name": "stdout",
     "output_type": "stream",
     "text": [
      "Shapefile saved successfully: manual_method_resampling\\cubic_spline\\UK_imputation_resampled_12km_cubic_spline_processed_intermediate.shp\n"
     ]
    },
    {
     "name": "stderr",
     "output_type": "stream",
     "text": [
      "\n",
      "Processing Files:  29%|██▊       | 4/14 [00:08<00:19,  1.97s/it]"
     ]
    },
    {
     "name": "stdout",
     "output_type": "stream",
     "text": [
      "Filtered shapefile saved successfully: manual_method_resampling\\cubic_spline\\UK_imputation_resampled_12km_cubic_spline_processed.shp\n",
      "Intermediate shapefile removed: manual_method_resampling\\cubic_spline\\UK_imputation_resampled_12km_cubic_spline_processed_intermediate.shp\n"
     ]
    },
    {
     "name": "stderr",
     "output_type": "stream",
     "text": [
      "Converting Raster to Points: 100%|██████████| 112/112 [00:00<00:00, 3163.49it/s]\n"
     ]
    },
    {
     "name": "stdout",
     "output_type": "stream",
     "text": [
      "No valid points found in raster file: manual_method_resampling\\lanczos\\UK_imputation_resampled_12km_lanczos_processed.tif\n",
      "Intermediate shapefile removed: manual_method_resampling\\lanczos\\UK_imputation_resampled_12km_lanczos_processed_intermediate.shp\n"
     ]
    },
    {
     "name": "stderr",
     "output_type": "stream",
     "text": [
      "Converting Raster to Points: 100%|██████████| 112/112 [00:00<00:00, 1452.38it/s]\n"
     ]
    },
    {
     "name": "stdout",
     "output_type": "stream",
     "text": [
      "Shapefile saved successfully: manual_method_resampling\\average\\UK_imputation_resampled_12km_average_processed_intermediate.shp\n"
     ]
    },
    {
     "name": "stderr",
     "output_type": "stream",
     "text": [
      "Processing Files:  43%|████▎     | 6/14 [00:22<00:37,  4.68s/it]"
     ]
    },
    {
     "name": "stdout",
     "output_type": "stream",
     "text": [
      "Filtered shapefile saved successfully: manual_method_resampling\\average\\UK_imputation_resampled_12km_average_processed.shp\n",
      "Intermediate shapefile removed: manual_method_resampling\\average\\UK_imputation_resampled_12km_average_processed_intermediate.shp\n"
     ]
    },
    {
     "name": "stderr",
     "output_type": "stream",
     "text": [
      "Converting Raster to Points: 100%|██████████| 112/112 [00:00<00:00, 1336.37it/s]\n"
     ]
    },
    {
     "name": "stdout",
     "output_type": "stream",
     "text": [
      "Shapefile saved successfully: manual_method_resampling\\mode\\UK_imputation_resampled_12km_mode_processed_intermediate.shp\n"
     ]
    },
    {
     "name": "stderr",
     "output_type": "stream",
     "text": [
      "Processing Files:  50%|█████     | 7/14 [00:36<00:50,  7.23s/it]"
     ]
    },
    {
     "name": "stdout",
     "output_type": "stream",
     "text": [
      "Filtered shapefile saved successfully: manual_method_resampling\\mode\\UK_imputation_resampled_12km_mode_processed.shp\n",
      "Intermediate shapefile removed: manual_method_resampling\\mode\\UK_imputation_resampled_12km_mode_processed_intermediate.shp\n"
     ]
    },
    {
     "name": "stderr",
     "output_type": "stream",
     "text": [
      "Converting Raster to Points: 100%|██████████| 112/112 [00:00<00:00, 1417.87it/s]\n"
     ]
    },
    {
     "name": "stdout",
     "output_type": "stream",
     "text": [
      "Shapefile saved successfully: manual_method_resampling\\max\\UK_imputation_resampled_12km_max_processed_intermediate.shp\n"
     ]
    },
    {
     "name": "stderr",
     "output_type": "stream",
     "text": [
      "Processing Files:  57%|█████▋    | 8/14 [00:52<00:58,  9.70s/it]"
     ]
    },
    {
     "name": "stdout",
     "output_type": "stream",
     "text": [
      "Filtered shapefile saved successfully: manual_method_resampling\\max\\UK_imputation_resampled_12km_max_processed.shp\n",
      "Intermediate shapefile removed: manual_method_resampling\\max\\UK_imputation_resampled_12km_max_processed_intermediate.shp\n"
     ]
    },
    {
     "name": "stderr",
     "output_type": "stream",
     "text": [
      "Converting Raster to Points: 100%|██████████| 112/112 [00:00<00:00, 984.91it/s]\n"
     ]
    },
    {
     "name": "stdout",
     "output_type": "stream",
     "text": [
      "Shapefile saved successfully: manual_method_resampling\\min\\UK_imputation_resampled_12km_min_processed_intermediate.shp\n"
     ]
    },
    {
     "name": "stderr",
     "output_type": "stream",
     "text": [
      "Processing Files:  64%|██████▍   | 9/14 [01:07<00:56, 11.22s/it]"
     ]
    },
    {
     "name": "stdout",
     "output_type": "stream",
     "text": [
      "Filtered shapefile saved successfully: manual_method_resampling\\min\\UK_imputation_resampled_12km_min_processed.shp\n",
      "Intermediate shapefile removed: manual_method_resampling\\min\\UK_imputation_resampled_12km_min_processed_intermediate.shp\n"
     ]
    },
    {
     "name": "stderr",
     "output_type": "stream",
     "text": [
      "Converting Raster to Points: 100%|██████████| 112/112 [00:00<00:00, 1398.20it/s]\n"
     ]
    },
    {
     "name": "stdout",
     "output_type": "stream",
     "text": [
      "Shapefile saved successfully: manual_method_resampling\\med\\UK_imputation_resampled_12km_med_processed_intermediate.shp\n"
     ]
    },
    {
     "name": "stderr",
     "output_type": "stream",
     "text": [
      "Processing Files:  71%|███████▏  | 10/14 [01:21<00:48, 12.09s/it]"
     ]
    },
    {
     "name": "stdout",
     "output_type": "stream",
     "text": [
      "Filtered shapefile saved successfully: manual_method_resampling\\med\\UK_imputation_resampled_12km_med_processed.shp\n",
      "Intermediate shapefile removed: manual_method_resampling\\med\\UK_imputation_resampled_12km_med_processed_intermediate.shp\n"
     ]
    },
    {
     "name": "stderr",
     "output_type": "stream",
     "text": [
      "Converting Raster to Points: 100%|██████████| 112/112 [00:00<00:00, 1385.41it/s]\n"
     ]
    },
    {
     "name": "stdout",
     "output_type": "stream",
     "text": [
      "Shapefile saved successfully: manual_method_resampling\\q1\\UK_imputation_resampled_12km_q1_processed_intermediate.shp\n"
     ]
    },
    {
     "name": "stderr",
     "output_type": "stream",
     "text": [
      "Processing Files:  79%|███████▊  | 11/14 [01:35<00:38, 12.71s/it]"
     ]
    },
    {
     "name": "stdout",
     "output_type": "stream",
     "text": [
      "Filtered shapefile saved successfully: manual_method_resampling\\q1\\UK_imputation_resampled_12km_q1_processed.shp\n",
      "Intermediate shapefile removed: manual_method_resampling\\q1\\UK_imputation_resampled_12km_q1_processed_intermediate.shp\n"
     ]
    },
    {
     "name": "stderr",
     "output_type": "stream",
     "text": [
      "Converting Raster to Points: 100%|██████████| 112/112 [00:00<00:00, 1278.09it/s]\n"
     ]
    },
    {
     "name": "stdout",
     "output_type": "stream",
     "text": [
      "Shapefile saved successfully: manual_method_resampling\\q3\\UK_imputation_resampled_12km_q3_processed_intermediate.shp\n"
     ]
    },
    {
     "name": "stderr",
     "output_type": "stream",
     "text": [
      "Processing Files:  86%|████████▌ | 12/14 [01:50<00:26, 13.28s/it]"
     ]
    },
    {
     "name": "stdout",
     "output_type": "stream",
     "text": [
      "Filtered shapefile saved successfully: manual_method_resampling\\q3\\UK_imputation_resampled_12km_q3_processed.shp\n",
      "Intermediate shapefile removed: manual_method_resampling\\q3\\UK_imputation_resampled_12km_q3_processed_intermediate.shp\n"
     ]
    },
    {
     "name": "stderr",
     "output_type": "stream",
     "text": [
      "Converting Raster to Points: 100%|██████████| 112/112 [00:00<00:00, 1494.42it/s]\n"
     ]
    },
    {
     "name": "stdout",
     "output_type": "stream",
     "text": [
      "Shapefile saved successfully: manual_method_resampling\\sum\\UK_imputation_resampled_12km_sum_processed_intermediate.shp\n"
     ]
    },
    {
     "name": "stderr",
     "output_type": "stream",
     "text": [
      "Processing Files:  93%|█████████▎| 13/14 [02:06<00:14, 14.05s/it]"
     ]
    },
    {
     "name": "stdout",
     "output_type": "stream",
     "text": [
      "Filtered shapefile saved successfully: manual_method_resampling\\sum\\UK_imputation_resampled_12km_sum_processed.shp\n",
      "Intermediate shapefile removed: manual_method_resampling\\sum\\UK_imputation_resampled_12km_sum_processed_intermediate.shp\n"
     ]
    },
    {
     "name": "stderr",
     "output_type": "stream",
     "text": [
      "Converting Raster to Points: 100%|██████████| 112/112 [00:00<00:00, 803.76it/s]\n"
     ]
    },
    {
     "name": "stdout",
     "output_type": "stream",
     "text": [
      "Shapefile saved successfully: manual_method_resampling\\rms\\UK_imputation_resampled_12km_rms_processed_intermediate.shp\n"
     ]
    },
    {
     "name": "stderr",
     "output_type": "stream",
     "text": [
      "Processing Files: 100%|██████████| 14/14 [02:24<00:00, 10.30s/it]"
     ]
    },
    {
     "name": "stdout",
     "output_type": "stream",
     "text": [
      "Filtered shapefile saved successfully: manual_method_resampling\\rms\\UK_imputation_resampled_12km_rms_processed.shp\n",
      "Intermediate shapefile removed: manual_method_resampling\\rms\\UK_imputation_resampled_12km_rms_processed_intermediate.shp\n",
      "Results saved to CSV file: results_manual.csv\n"
     ]
    },
    {
     "name": "stderr",
     "output_type": "stream",
     "text": [
      "\n"
     ]
    }
   ],
   "source": [
    "import os\n",
    "import rasterio\n",
    "from shapely.geometry import Point\n",
    "import geopandas as gpd\n",
    "import numpy as np\n",
    "from tqdm import tqdm\n",
    "import pandas as pd\n",
    "\n",
    "# Function to convert raster to shapefile with points\n",
    "def raster_to_points(input_file, output_shapefile):\n",
    "    # Lists to store point geometries, coordinates, and pixel values\n",
    "    points = []\n",
    "    lats = []\n",
    "    lons = []\n",
    "    values = []\n",
    "\n",
    "    # Open the GeoTIFF file\n",
    "    with rasterio.open(input_file) as src:\n",
    "        # Get the number of rows and columns in the raster\n",
    "        rows, cols = src.shape\n",
    "        \n",
    "        # Get the nodata value\n",
    "        nodata_value = src.nodata\n",
    "\n",
    "        # Read the entire raster data into memory\n",
    "        data = src.read(1)\n",
    "\n",
    "        # Iterate through each pixel in the raster\n",
    "        for row in tqdm(range(rows), desc=\"Converting Raster to Points\"):\n",
    "            for col in range(cols):\n",
    "                # Read pixel value\n",
    "                pixel_value = data[row, col]\n",
    "                \n",
    "                # Check if pixel value is not nodata and not NaN\n",
    "                if pixel_value != nodata_value and not np.isnan(pixel_value):\n",
    "                    # Convert pixel coordinates to geographic coordinates (longitude, latitude)\n",
    "                    lon, lat = src.xy(row, col)\n",
    "\n",
    "                    # Create a point geometry for each valid pixel coordinate\n",
    "                    point = Point(lon, lat)\n",
    "                    points.append(point)\n",
    "                    lats.append(lat)\n",
    "                    lons.append(lon)\n",
    "                    values.append(pixel_value)\n",
    "\n",
    "    # Create a GeoDataFrame from the list of points\n",
    "    gdf = gpd.GeoDataFrame(geometry=points, crs=src.crs)\n",
    "\n",
    "    # Add latitude, longitude, and pixel values to the GeoDataFrame\n",
    "    gdf['latitude'] = lats\n",
    "    gdf['longitude'] = lons\n",
    "    gdf['value'] = values\n",
    "\n",
    "    if not gdf.empty:\n",
    "        # Save the GeoDataFrame as a shapefile if it is not empty\n",
    "        gdf.to_file(output_shapefile)\n",
    "        print(f\"Shapefile saved successfully: {output_shapefile}\")\n",
    "    else:\n",
    "        print(f\"No valid points found in raster file: {input_file}\")\n",
    "    return gdf\n",
    "\n",
    "# Function to filter out common points between two shapefiles\n",
    "def filter_common_points(input_shapefile, reference_shapefile, output_shapefile):\n",
    "    # Load the shapefiles\n",
    "    gdf_input = gpd.read_file(input_shapefile)\n",
    "    gdf_reference = gpd.read_file(reference_shapefile)\n",
    "\n",
    "    # Ensure both GeoDataFrames have the same CRS\n",
    "    if gdf_input.crs != gdf_reference.crs:\n",
    "        gdf_reference = gdf_reference.to_crs(gdf_input.crs)\n",
    "\n",
    "    # Identify points in gdf_input that are not in gdf_reference based on latitude and longitude\n",
    "    gdf_filtered = gdf_input[~gdf_input.apply(lambda x: (x['latitude'], x['longitude']) in \n",
    "                                        set(gdf_reference.apply(lambda y: (y['latitude'], y['longitude']), axis=1)), axis=1)]\n",
    "\n",
    "    if not gdf_filtered.empty:\n",
    "        # Save the filtered GeoDataFrame to a new shapefile if it is not empty\n",
    "        gdf_filtered.to_file(output_shapefile)\n",
    "        print(f\"Filtered shapefile saved successfully: {output_shapefile}\")\n",
    "    else:\n",
    "        print(f\"No points to save after filtering for file: {input_shapefile}\")\n",
    "    return gdf_filtered\n",
    "\n",
    "# List of input raster files\n",
    "input_raster_files = processed_file_paths\n",
    "\n",
    "# Reference shapefile path\n",
    "reference_shapefile = 'UK_temp.shp'\n",
    "\n",
    "# List to store the results\n",
    "results = []\n",
    "\n",
    "# Loop through each input raster file\n",
    "for input_raster_file in tqdm(input_raster_files, desc=\"Processing Files\"):\n",
    "    # Extract the directory and base name of the input file\n",
    "    input_dir = os.path.dirname(input_raster_file)\n",
    "    base_name = os.path.splitext(os.path.basename(input_raster_file))[0]\n",
    "    \n",
    "    # Define paths for intermediate and final shapefiles\n",
    "    intermediate_shapefile = os.path.join(input_dir, f'{base_name}_intermediate.shp')\n",
    "    final_output_shapefile = os.path.join(input_dir, f'{base_name}.shp')\n",
    "\n",
    "    # Step 1: Convert raster to points and save as shapefile\n",
    "    gdf_intermediate = raster_to_points(input_raster_file, intermediate_shapefile)\n",
    "\n",
    "    if not gdf_intermediate.empty:\n",
    "        # Step 2: Filter out common points based on reference shapefile and save the result\n",
    "        gdf_filtered = filter_common_points(intermediate_shapefile, reference_shapefile, final_output_shapefile)\n",
    "\n",
    "        if not gdf_filtered.empty:\n",
    "            # Record the number of points in the final shapefile\n",
    "            num_points = len(gdf_filtered)\n",
    "            results.append({'File': final_output_shapefile, 'Num_Points': num_points})\n",
    "\n",
    "    # Clean up the intermediate shapefile if needed\n",
    "    if os.path.exists(intermediate_shapefile):\n",
    "        os.remove(intermediate_shapefile)\n",
    "        print(f\"Intermediate shapefile removed: {intermediate_shapefile}\")\n",
    "\n",
    "# Convert the results to a DataFrame and save to a CSV file\n",
    "if results:\n",
    "    results_df = pd.DataFrame(results)\n",
    "    results_csv_path = 'results_manual.csv'\n",
    "    results_df.to_csv(results_csv_path, index=False)\n",
    "    print(f\"Results saved to CSV file: {results_csv_path}\")\n",
    "else:\n",
    "    print(\"No results to save.\")\n",
    "\n"
   ]
  },
  {
   "cell_type": "markdown",
   "metadata": {},
   "source": [
    "# Temportary Section (Strat remove current points to do imputation and move forward )"
   ]
  },
  {
   "cell_type": "markdown",
   "metadata": {},
   "source": [
    "## Finding Temprature points in Costal region "
   ]
  }
 ],
 "metadata": {
  "kernelspec": {
   "display_name": "Python 3",
   "language": "python",
   "name": "python3"
  },
  "language_info": {
   "codemirror_mode": {
    "name": "ipython",
    "version": 3
   },
   "file_extension": ".py",
   "mimetype": "text/x-python",
   "name": "python",
   "nbconvert_exporter": "python",
   "pygments_lexer": "ipython3",
   "version": "3.12.0"
  }
 },
 "nbformat": 4,
 "nbformat_minor": 2
}
