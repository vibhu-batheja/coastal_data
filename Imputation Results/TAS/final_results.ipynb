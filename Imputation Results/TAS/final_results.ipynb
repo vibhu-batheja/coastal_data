{
 "cells": [
  {
   "cell_type": "code",
   "execution_count": 1,
   "metadata": {},
   "outputs": [
    {
     "name": "stdout",
     "output_type": "stream",
     "text": [
      "               MSE Mean Bootstrap  MSE Median Bootstrap  MSE Single Run\n",
      "Method                                                                 \n",
      "KNN_Bias_cor             0.179356              0.170800        0.171347\n",
      "KNN_original             0.781266              0.771008        0.758547\n",
      "SVM_Bias_corr            0.157795              0.144494        0.129515\n",
      "SVM_original             0.632004              0.609769        0.566837\n",
      "GWR_original             0.462505              0.463316        0.463400\n",
      "GWR_Bias_corr            0.050120              0.049637        0.049713\n"
     ]
    }
   ],
   "source": [
    "import pandas as pd\n",
    "\n",
    "# Create a dictionary with your data\n",
    "data = {\n",
    "    'Method': [\n",
    "        'KNN_Bias_cor', 'KNN_original', \n",
    "        'SVM_Bias_corr', 'SVM_original','GWR_original','GWR_Bias_corr'\n",
    "    ],\n",
    "    'MSE Mean Bootstrap': [0.179356, 0.781266, 0.157795, 0.632004,0.462505,0.050120],\n",
    "    'MSE Median Bootstrap': [0.170800, 0.771008, 0.144494, 0.609769,0.463316,0.049637],\n",
    "    'MSE Single Run': [0.171347, 0.758547, 0.129515, 0.566837,0.4634,0.049713]\n",
    "}\n",
    "\n",
    "# Create a DataFrame\n",
    "df = pd.DataFrame(data)\n",
    "\n",
    "# Set 'Method' column as the index\n",
    "df.set_index('Method', inplace=True)\n",
    "\n",
    "# Print the DataFrame\n",
    "print(df)\n"
   ]
  },
  {
   "cell_type": "code",
   "execution_count": 1,
   "metadata": {},
   "outputs": [
    {
     "name": "stdout",
     "output_type": "stream",
     "text": [
      "Mean Squared Error (MSE) between imputed values: 0.0\n"
     ]
    }
   ],
   "source": [
    "import pandas as pd\n",
    "from sklearn.metrics import mean_squared_error\n",
    "\n",
    "# Load the two files into DataFrames\n",
    "file1 = pd.read_csv('knn_bias_corr_MICE.csv')\n",
    "file2 = pd.read_csv(r\"C:\\Users\\vibhu\\Downloads\\LS_mask\\UKCP_18_09\\Imputation Points\\Imputation Results\\TAS\\KNN_Bias_corr.csv\")\n",
    "\n",
    "# Merge the DataFrames on latitude and longitude\n",
    "merged_df = pd.merge(file1, file2, on=['latitude', 'longitude'], suffixes=('_file1', '_file2'))\n",
    "\n",
    "# Calculate the Mean Squared Error between imputed values\n",
    "mse = mean_squared_error(merged_df['imputed_value_file1'], merged_df['imputed_value_file2'])\n",
    "\n",
    "print(f'Mean Squared Error (MSE) between imputed values: {mse}')\n"
   ]
  }
 ],
 "metadata": {
  "kernelspec": {
   "display_name": "Python 3",
   "language": "python",
   "name": "python3"
  },
  "language_info": {
   "codemirror_mode": {
    "name": "ipython",
    "version": 3
   },
   "file_extension": ".py",
   "mimetype": "text/x-python",
   "name": "python",
   "nbconvert_exporter": "python",
   "pygments_lexer": "ipython3",
   "version": "3.12.4"
  }
 },
 "nbformat": 4,
 "nbformat_minor": 2
}
